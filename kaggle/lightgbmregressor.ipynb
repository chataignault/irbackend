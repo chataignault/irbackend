{
 "cells": [
  {
   "cell_type": "code",
   "execution_count": 1,
   "id": "5a7e8e52",
   "metadata": {
    "_cell_guid": "b1076dfc-b9ad-4769-8c92-a6c4dae69d19",
    "_uuid": "8f2839f25d086af736a60e9eeb907d3b93b6e0e5",
    "execution": {
     "iopub.execute_input": "2025-07-18T13:54:12.429050Z",
     "iopub.status.busy": "2025-07-18T13:54:12.428735Z",
     "iopub.status.idle": "2025-07-18T13:54:22.691690Z",
     "shell.execute_reply": "2025-07-18T13:54:22.690514Z"
    },
    "papermill": {
     "duration": 10.269413,
     "end_time": "2025-07-18T13:54:22.693461",
     "exception": false,
     "start_time": "2025-07-18T13:54:12.424048",
     "status": "completed"
    },
    "tags": []
   },
   "outputs": [
    {
     "name": "stdout",
     "output_type": "stream",
     "text": [
      "/kaggle/src/script.ipynb\n",
      "/kaggle/lib/kaggle/gcp.py\n",
      "/kaggle/input/drw-crypto-market-prediction/sample_submission.csv\n",
      "/kaggle/input/drw-crypto-market-prediction/train.parquet\n",
      "/kaggle/input/drw-crypto-market-prediction/test.parquet\n",
      "/kaggle/huggingface/hf_scan.py\n",
      "/kaggle/nbdev/export.sh\n",
      "/kaggle/nbdev/settings.ini\n",
      "/kaggle/working/__notebook__.ipynb\n"
     ]
    }
   ],
   "source": [
    "\n",
    "import numpy as np # linear algebra\n",
    "import pandas as pd # data processing, CSV file I/O (e.g. pd.read_csv)\n",
    "from typing import List\n",
    "from pathlib import Path\n",
    "import polars as pl\n",
    "from scipy.stats import pearsonr\n",
    "from sklearn.metrics import r2_score\n",
    "import lightgbm as lgb\n",
    "\n",
    "\n",
    "import os\n",
    "for dirname, _, filenames in os.walk('/kaggle/'):\n",
    "    for filename in filenames:\n",
    "        print(os.path.join(dirname, filename))\n",
    "\n",
    "\n",
    "crypto_folder = Path(\"/kaggle/input/drw-crypto-market-prediction\")"
   ]
  },
  {
   "cell_type": "code",
   "execution_count": 2,
   "id": "4c53917c",
   "metadata": {
    "execution": {
     "iopub.execute_input": "2025-07-18T13:54:22.701462Z",
     "iopub.status.busy": "2025-07-18T13:54:22.700790Z",
     "iopub.status.idle": "2025-07-18T13:54:22.712047Z",
     "shell.execute_reply": "2025-07-18T13:54:22.710981Z"
    },
    "papermill": {
     "duration": 0.016929,
     "end_time": "2025-07-18T13:54:22.713731",
     "exception": false,
     "start_time": "2025-07-18T13:54:22.696802",
     "status": "completed"
    },
    "tags": []
   },
   "outputs": [],
   "source": [
    "\n",
    "def get_clean_crypto_data(train: bool = True) -> pl.LazyFrame:\n",
    "    \"\"\"\n",
    "    Load and clean crypto data, returning either train or test set.\n",
    "    \n",
    "    Args:\n",
    "        train: If True, return training set. If False, return test set.\n",
    "        \n",
    "    Returns:\n",
    "        Cleaned lazy frame with columns that have variance and no infinite values.\n",
    "    \"\"\"\n",
    "    filename = \"train.parquet\" if train else \"test.parquet\"\n",
    "    \n",
    "    # Load data\n",
    "    crypto_lazy = pl.scan_parquet(crypto_folder / filename)\n",
    "    if train:\n",
    "        crypto_lazy = crypto_lazy.with_columns(pl.col(\"__index_level_0__\").alias(\"timestamp\")).drop([\"__index_level_0__\"])\n",
    "    # Get column names and calculate variance on training set (for consistency)\n",
    "    train_lazy = pl.scan_parquet(crypto_folder / \"train.parquet\").with_columns(pl.col(\"__index_level_0__\").alias(\"timestamp\")).drop([\"__index_level_0__\"])\n",
    "\n",
    "    crypto_var = train_lazy.select(pl.exclude([\"timestamp\"]).var()).collect()\n",
    "    \n",
    "    # Remove columns with zero variance\n",
    "    crypto_cols = train_lazy.collect_schema().names()\n",
    "    crypto_var_cols = crypto_var.select(pl.all() == 0.0).to_pandas().T.rename(\n",
    "        columns={0: \"is_variance_null\"}\n",
    "    ).reset_index().rename(columns={\"index\": \"column_name\"}).groupby(\n",
    "        \"is_variance_null\"\n",
    "    )[\"column_name\"].unique()\n",
    "    \n",
    "    crypto_cols_with_var = crypto_var_cols[False]\n",
    "    \n",
    "    # Handle timestamp column presence\n",
    "    if train:\n",
    "        crypto_lazy_var = crypto_lazy.select(\n",
    "            [\"timestamp\"] + [pl.col(c) for c in crypto_cols_with_var]\n",
    "        )\n",
    "    else:\n",
    "        crypto_lazy_var = crypto_lazy.select(\n",
    "            [pl.col(c) for c in crypto_cols_with_var if c in crypto_lazy.collect_schema().names()]\n",
    "        )\n",
    "    \n",
    "    # Remove columns with infinite values (check on training set)\n",
    "    train_lazy_var = train_lazy.select(\n",
    "        [\"timestamp\"] + [pl.col(c) for c in crypto_cols_with_var]\n",
    "    )\n",
    "    current_columns = train_lazy_var.collect_schema().names()\n",
    "    contains_infinite_cols = train_lazy_var.select(\n",
    "        pl.exclude(\"timestamp\").abs().max().is_infinite()\n",
    "    ).collect().to_pandas().T.rename(\n",
    "        columns={0: \"contains_infinite\"}\n",
    "    ).reset_index().rename(columns={\"index\": \"column_name\"}).groupby(\n",
    "        \"contains_infinite\"\n",
    "    )[\"column_name\"].unique()\n",
    "    \n",
    "    clean_columns = [c for c in current_columns if c in contains_infinite_cols[False]] + [\"timestamp\"]    \n",
    "    # Filter clean columns based on what's available in the current dataset\n",
    "    available_columns = crypto_lazy.collect_schema().names()\n",
    "    final_columns = [c for c in clean_columns if c in available_columns]\n",
    "    \n",
    "    return crypto_lazy.select(final_columns)"
   ]
  },
  {
   "cell_type": "code",
   "execution_count": 3,
   "id": "79c0cd37",
   "metadata": {
    "execution": {
     "iopub.execute_input": "2025-07-18T13:54:22.721323Z",
     "iopub.status.busy": "2025-07-18T13:54:22.720960Z",
     "iopub.status.idle": "2025-07-18T13:54:37.459994Z",
     "shell.execute_reply": "2025-07-18T13:54:37.458871Z"
    },
    "papermill": {
     "duration": 14.744858,
     "end_time": "2025-07-18T13:54:37.461880",
     "exception": false,
     "start_time": "2025-07-18T13:54:22.717022",
     "status": "completed"
    },
    "tags": []
   },
   "outputs": [],
   "source": [
    "stats_columns = [\"timestamp\", \"bid_qty\", \"ask_qty\", \"buy_qty\", \"sell_qty\", \"volume\", \"label\"]\n",
    "stats_columns_test = [\"bid_qty\", \"ask_qty\", \"buy_qty\", \"sell_qty\", \"volume\", \"label\"]\n",
    "X_exclude = [\"timestamp\", \"label\"]\n",
    "\n",
    "crypto_lazy_clean = get_clean_crypto_data(train=True)\n",
    "\n",
    "def get_diff_features(df:pl.LazyFrame, stats_columns:List[str]):\n",
    "    return df.with_columns(pl.exclude(stats_columns).diff()).with_row_index().fill_null(strategy=\"backward\").select(pl.exclude(\"index\"))\n",
    "\n",
    "crypto_lazy_clean = crypto_lazy_clean.join(\n",
    "        get_diff_features(crypto_lazy_clean, stats_columns),\n",
    "        on=stats_columns,\n",
    "        suffix=\"_diff\"\n",
    ")\n"
   ]
  },
  {
   "cell_type": "code",
   "execution_count": 4,
   "id": "aabc1b96",
   "metadata": {
    "execution": {
     "iopub.execute_input": "2025-07-18T13:54:37.469465Z",
     "iopub.status.busy": "2025-07-18T13:54:37.469131Z",
     "iopub.status.idle": "2025-07-18T13:54:50.281110Z",
     "shell.execute_reply": "2025-07-18T13:54:50.280125Z"
    },
    "papermill": {
     "duration": 12.817723,
     "end_time": "2025-07-18T13:54:50.282921",
     "exception": false,
     "start_time": "2025-07-18T13:54:37.465198",
     "status": "completed"
    },
    "tags": []
   },
   "outputs": [],
   "source": [
    "X = crypto_lazy_clean.select(pl.exclude(X_exclude)).collect().to_numpy()\n",
    "y = crypto_lazy_clean.select(pl.col(\"label\")).collect().to_numpy().T[0]\n"
   ]
  },
  {
   "cell_type": "code",
   "execution_count": 5,
   "id": "36f6cbee",
   "metadata": {
    "execution": {
     "iopub.execute_input": "2025-07-18T13:54:50.290015Z",
     "iopub.status.busy": "2025-07-18T13:54:50.289706Z",
     "iopub.status.idle": "2025-07-18T14:00:17.843337Z",
     "shell.execute_reply": "2025-07-18T14:00:17.842165Z"
    },
    "papermill": {
     "duration": 327.567017,
     "end_time": "2025-07-18T14:00:17.853020",
     "exception": false,
     "start_time": "2025-07-18T13:54:50.286003",
     "status": "completed"
    },
    "tags": []
   },
   "outputs": [
    {
     "name": "stderr",
     "output_type": "stream",
     "text": [
      "/usr/local/lib/python3.11/dist-packages/lightgbm/basic.py:2118: UserWarning: weight keyword has been found in `params` and will be ignored.\n",
      "Please use weight argument of the Dataset constructor to pass this parameter.\n",
      "  _log_warning(\n"
     ]
    },
    {
     "name": "stdout",
     "output_type": "stream",
     "text": [
      "[LightGBM] [Info] Auto-choosing col-wise multi-threading, the overhead of testing was 16.748068 seconds.\n",
      "You can set `force_col_wise=true` to remove the overhead.\n",
      "[LightGBM] [Info] Total Bins 399056\n",
      "[LightGBM] [Info] Number of data points in the train set: 525886, number of used features: 1565\n",
      "[LightGBM] [Info] Start training from score 0.036126\n"
     ]
    },
    {
     "data": {
      "text/html": [
       "<style>#sk-container-id-1 {color: black;background-color: white;}#sk-container-id-1 pre{padding: 0;}#sk-container-id-1 div.sk-toggleable {background-color: white;}#sk-container-id-1 label.sk-toggleable__label {cursor: pointer;display: block;width: 100%;margin-bottom: 0;padding: 0.3em;box-sizing: border-box;text-align: center;}#sk-container-id-1 label.sk-toggleable__label-arrow:before {content: \"▸\";float: left;margin-right: 0.25em;color: #696969;}#sk-container-id-1 label.sk-toggleable__label-arrow:hover:before {color: black;}#sk-container-id-1 div.sk-estimator:hover label.sk-toggleable__label-arrow:before {color: black;}#sk-container-id-1 div.sk-toggleable__content {max-height: 0;max-width: 0;overflow: hidden;text-align: left;background-color: #f0f8ff;}#sk-container-id-1 div.sk-toggleable__content pre {margin: 0.2em;color: black;border-radius: 0.25em;background-color: #f0f8ff;}#sk-container-id-1 input.sk-toggleable__control:checked~div.sk-toggleable__content {max-height: 200px;max-width: 100%;overflow: auto;}#sk-container-id-1 input.sk-toggleable__control:checked~label.sk-toggleable__label-arrow:before {content: \"▾\";}#sk-container-id-1 div.sk-estimator input.sk-toggleable__control:checked~label.sk-toggleable__label {background-color: #d4ebff;}#sk-container-id-1 div.sk-label input.sk-toggleable__control:checked~label.sk-toggleable__label {background-color: #d4ebff;}#sk-container-id-1 input.sk-hidden--visually {border: 0;clip: rect(1px 1px 1px 1px);clip: rect(1px, 1px, 1px, 1px);height: 1px;margin: -1px;overflow: hidden;padding: 0;position: absolute;width: 1px;}#sk-container-id-1 div.sk-estimator {font-family: monospace;background-color: #f0f8ff;border: 1px dotted black;border-radius: 0.25em;box-sizing: border-box;margin-bottom: 0.5em;}#sk-container-id-1 div.sk-estimator:hover {background-color: #d4ebff;}#sk-container-id-1 div.sk-parallel-item::after {content: \"\";width: 100%;border-bottom: 1px solid gray;flex-grow: 1;}#sk-container-id-1 div.sk-label:hover label.sk-toggleable__label {background-color: #d4ebff;}#sk-container-id-1 div.sk-serial::before {content: \"\";position: absolute;border-left: 1px solid gray;box-sizing: border-box;top: 0;bottom: 0;left: 50%;z-index: 0;}#sk-container-id-1 div.sk-serial {display: flex;flex-direction: column;align-items: center;background-color: white;padding-right: 0.2em;padding-left: 0.2em;position: relative;}#sk-container-id-1 div.sk-item {position: relative;z-index: 1;}#sk-container-id-1 div.sk-parallel {display: flex;align-items: stretch;justify-content: center;background-color: white;position: relative;}#sk-container-id-1 div.sk-item::before, #sk-container-id-1 div.sk-parallel-item::before {content: \"\";position: absolute;border-left: 1px solid gray;box-sizing: border-box;top: 0;bottom: 0;left: 50%;z-index: -1;}#sk-container-id-1 div.sk-parallel-item {display: flex;flex-direction: column;z-index: 1;position: relative;background-color: white;}#sk-container-id-1 div.sk-parallel-item:first-child::after {align-self: flex-end;width: 50%;}#sk-container-id-1 div.sk-parallel-item:last-child::after {align-self: flex-start;width: 50%;}#sk-container-id-1 div.sk-parallel-item:only-child::after {width: 0;}#sk-container-id-1 div.sk-dashed-wrapped {border: 1px dashed gray;margin: 0 0.4em 0.5em 0.4em;box-sizing: border-box;padding-bottom: 0.4em;background-color: white;}#sk-container-id-1 div.sk-label label {font-family: monospace;font-weight: bold;display: inline-block;line-height: 1.2em;}#sk-container-id-1 div.sk-label-container {text-align: center;}#sk-container-id-1 div.sk-container {/* jupyter's `normalize.less` sets `[hidden] { display: none; }` but bootstrap.min.css set `[hidden] { display: none !important; }` so we also need the `!important` here to be able to override the default hidden behavior on the sphinx rendered scikit-learn.org. See: https://github.com/scikit-learn/scikit-learn/issues/21755 */display: inline-block !important;position: relative;}#sk-container-id-1 div.sk-text-repr-fallback {display: none;}</style><div id=\"sk-container-id-1\" class=\"sk-top-container\"><div class=\"sk-text-repr-fallback\"><pre>LGBMRegressor(random_state=42,\n",
       "              weight=array([0.00137897, 0.00137897, 0.00137897, ..., 0.57735027, 0.70710678,\n",
       "       1.        ]))</pre><b>In a Jupyter environment, please rerun this cell to show the HTML representation or trust the notebook. <br />On GitHub, the HTML representation is unable to render, please try loading this page with nbviewer.org.</b></div><div class=\"sk-container\" hidden><div class=\"sk-item\"><div class=\"sk-estimator sk-toggleable\"><input class=\"sk-toggleable__control sk-hidden--visually\" id=\"sk-estimator-id-1\" type=\"checkbox\" checked><label for=\"sk-estimator-id-1\" class=\"sk-toggleable__label sk-toggleable__label-arrow\">LGBMRegressor</label><div class=\"sk-toggleable__content\"><pre>LGBMRegressor(random_state=42,\n",
       "              weight=array([0.00137897, 0.00137897, 0.00137897, ..., 0.57735027, 0.70710678,\n",
       "       1.        ]))</pre></div></div></div></div></div>"
      ],
      "text/plain": [
       "LGBMRegressor(random_state=42,\n",
       "              weight=array([0.00137897, 0.00137897, 0.00137897, ..., 0.57735027, 0.70710678,\n",
       "       1.        ]))"
      ]
     },
     "execution_count": 5,
     "metadata": {},
     "output_type": "execute_result"
    }
   ],
   "source": [
    "lgb_model = lgb.LGBMRegressor(random_state=42, weight=np.flip(1. / np.sqrt(np.arange(1, len(X)))))\n",
    "lgb_model.fit(X, y)"
   ]
  },
  {
   "cell_type": "code",
   "execution_count": 6,
   "id": "fa00592a",
   "metadata": {
    "execution": {
     "iopub.execute_input": "2025-07-18T14:00:17.865231Z",
     "iopub.status.busy": "2025-07-18T14:00:17.864846Z",
     "iopub.status.idle": "2025-07-18T14:00:27.246952Z",
     "shell.execute_reply": "2025-07-18T14:00:27.246121Z"
    },
    "papermill": {
     "duration": 9.391217,
     "end_time": "2025-07-18T14:00:27.248767",
     "exception": false,
     "start_time": "2025-07-18T14:00:17.857550",
     "status": "completed"
    },
    "tags": []
   },
   "outputs": [],
   "source": [
    "crypto_lazy_test = get_clean_crypto_data(train=False)\n",
    "\n",
    "crypto_lazy_test = crypto_lazy_test.join(\n",
    "        get_diff_features(crypto_lazy_test, stats_columns_test),\n",
    "        on=stats_columns_test,\n",
    "        suffix=\"_diff\"\n",
    ")\n",
    "\n",
    "# crypto_lazy_test = get_diff_features(crypto_lazy_test, stats_columns_test)\n",
    "assert \"timestamp\" not in crypto_lazy_test.collect_schema().names()"
   ]
  },
  {
   "cell_type": "code",
   "execution_count": 7,
   "id": "a6d5160b",
   "metadata": {
    "execution": {
     "iopub.execute_input": "2025-07-18T14:00:27.256869Z",
     "iopub.status.busy": "2025-07-18T14:00:27.256559Z",
     "iopub.status.idle": "2025-07-18T14:00:52.937284Z",
     "shell.execute_reply": "2025-07-18T14:00:52.933824Z"
    },
    "papermill": {
     "duration": 25.687155,
     "end_time": "2025-07-18T14:00:52.939496",
     "exception": false,
     "start_time": "2025-07-18T14:00:27.252341",
     "status": "completed"
    },
    "tags": []
   },
   "outputs": [
    {
     "data": {
      "text/plain": [
       "((538282, 1565), (525886, 1565))"
      ]
     },
     "execution_count": 7,
     "metadata": {},
     "output_type": "execute_result"
    }
   ],
   "source": [
    "X_test = crypto_lazy_test.select(pl.exclude([\"label\"])).collect().to_numpy()\n",
    "X_test.shape, X.shape\n"
   ]
  },
  {
   "cell_type": "code",
   "execution_count": 8,
   "id": "b100568f",
   "metadata": {
    "execution": {
     "iopub.execute_input": "2025-07-18T14:00:52.948136Z",
     "iopub.status.busy": "2025-07-18T14:00:52.947780Z",
     "iopub.status.idle": "2025-07-18T14:00:53.952957Z",
     "shell.execute_reply": "2025-07-18T14:00:53.951832Z"
    },
    "papermill": {
     "duration": 1.012007,
     "end_time": "2025-07-18T14:00:53.955167",
     "exception": false,
     "start_time": "2025-07-18T14:00:52.943160",
     "status": "completed"
    },
    "tags": []
   },
   "outputs": [],
   "source": [
    "del X\n",
    "del y"
   ]
  },
  {
   "cell_type": "code",
   "execution_count": 9,
   "id": "de0b2f29",
   "metadata": {
    "execution": {
     "iopub.execute_input": "2025-07-18T14:00:53.972556Z",
     "iopub.status.busy": "2025-07-18T14:00:53.972225Z",
     "iopub.status.idle": "2025-07-18T14:01:10.523444Z",
     "shell.execute_reply": "2025-07-18T14:01:10.522312Z"
    },
    "papermill": {
     "duration": 16.561269,
     "end_time": "2025-07-18T14:01:10.525532",
     "exception": false,
     "start_time": "2025-07-18T14:00:53.964263",
     "status": "completed"
    },
    "tags": []
   },
   "outputs": [],
   "source": [
    "y_hat_lgb_test = lgb_model.predict(X_test)\n",
    "\n",
    "del X_test"
   ]
  },
  {
   "cell_type": "code",
   "execution_count": 10,
   "id": "0c58618d",
   "metadata": {
    "execution": {
     "iopub.execute_input": "2025-07-18T14:01:10.534490Z",
     "iopub.status.busy": "2025-07-18T14:01:10.533747Z",
     "iopub.status.idle": "2025-07-18T14:01:25.535251Z",
     "shell.execute_reply": "2025-07-18T14:01:25.534172Z"
    },
    "papermill": {
     "duration": 15.008039,
     "end_time": "2025-07-18T14:01:25.537354",
     "exception": false,
     "start_time": "2025-07-18T14:01:10.529315",
     "status": "completed"
    },
    "tags": []
   },
   "outputs": [
    {
     "data": {
      "text/html": [
       "<div><style>\n",
       ".dataframe > thead > tr,\n",
       ".dataframe > tbody > tr {\n",
       "  text-align: right;\n",
       "  white-space: pre-wrap;\n",
       "}\n",
       "</style>\n",
       "<small>shape: (5, 1_568)</small><table border=\"1\" class=\"dataframe\"><thead><tr><th>bid_qty</th><th>ask_qty</th><th>buy_qty</th><th>sell_qty</th><th>volume</th><th>X1</th><th>X2</th><th>X3</th><th>X4</th><th>X5</th><th>X6</th><th>X7</th><th>X8</th><th>X9</th><th>X10</th><th>X11</th><th>X12</th><th>X13</th><th>X14</th><th>X15</th><th>X16</th><th>X17</th><th>X18</th><th>X19</th><th>X20</th><th>X21</th><th>X22</th><th>X23</th><th>X24</th><th>X25</th><th>X26</th><th>X27</th><th>X28</th><th>X29</th><th>X30</th><th>X31</th><th>X32</th><th>&hellip;</th><th>X746_diff</th><th>X747_diff</th><th>X748_diff</th><th>X749_diff</th><th>X750_diff</th><th>X751_diff</th><th>X752_diff</th><th>X753_diff</th><th>X754_diff</th><th>X755_diff</th><th>X756_diff</th><th>X757_diff</th><th>X758_diff</th><th>X759_diff</th><th>X760_diff</th><th>X761_diff</th><th>X762_diff</th><th>X763_diff</th><th>X764_diff</th><th>X765_diff</th><th>X766_diff</th><th>X767_diff</th><th>X768_diff</th><th>X769_diff</th><th>X770_diff</th><th>X771_diff</th><th>X772_diff</th><th>X773_diff</th><th>X774_diff</th><th>X775_diff</th><th>X776_diff</th><th>X777_diff</th><th>X778_diff</th><th>X779_diff</th><th>X780_diff</th><th>ID</th><th>prediction</th></tr><tr><td>f64</td><td>f64</td><td>f64</td><td>f64</td><td>f64</td><td>f64</td><td>f64</td><td>f64</td><td>f64</td><td>f64</td><td>f64</td><td>f64</td><td>f64</td><td>f64</td><td>f64</td><td>f64</td><td>f64</td><td>f64</td><td>f64</td><td>f64</td><td>f64</td><td>f64</td><td>f64</td><td>f64</td><td>f64</td><td>f64</td><td>f64</td><td>f64</td><td>f64</td><td>f64</td><td>f64</td><td>f64</td><td>f64</td><td>f64</td><td>f64</td><td>f64</td><td>f64</td><td>&hellip;</td><td>f64</td><td>f64</td><td>f64</td><td>f64</td><td>f64</td><td>f64</td><td>f64</td><td>f64</td><td>f64</td><td>f64</td><td>f64</td><td>f64</td><td>f64</td><td>f64</td><td>f64</td><td>f64</td><td>f64</td><td>f64</td><td>f64</td><td>f64</td><td>f64</td><td>f64</td><td>f64</td><td>f64</td><td>f64</td><td>f64</td><td>f64</td><td>f64</td><td>f64</td><td>f64</td><td>f64</td><td>f64</td><td>f64</td><td>f64</td><td>f64</td><td>i64</td><td>f64</td></tr></thead><tbody><tr><td>0.317</td><td>8.102</td><td>13.164</td><td>10.272</td><td>23.436</td><td>-0.341229</td><td>0.041851</td><td>-0.020094</td><td>-0.206221</td><td>-0.297124</td><td>-0.222267</td><td>-0.197837</td><td>-0.203911</td><td>-0.655944</td><td>0.007174</td><td>-0.329925</td><td>-0.596616</td><td>-0.625749</td><td>-0.323394</td><td>-0.263399</td><td>-0.305465</td><td>0.483037</td><td>0.086237</td><td>0.229379</td><td>0.433586</td><td>0.526652</td><td>0.422905</td><td>0.108377</td><td>0.063136</td><td>0.47397</td><td>-0.069006</td><td>0.234467</td><td>0.447948</td><td>0.234189</td><td>0.016555</td><td>0.011871</td><td>0.136422</td><td>&hellip;</td><td>0.748208</td><td>1.47553</td><td>0.180672</td><td>0.359242</td><td>0.745627</td><td>1.459644</td><td>-0.105404</td><td>0.871998</td><td>-0.208738</td><td>0.81882</td><td>-1.627032</td><td>-0.281315</td><td>-2.392244</td><td>-0.46812</td><td>1.019065</td><td>-2.491853</td><td>1.788676</td><td>-0.067634</td><td>-0.051776</td><td>0.071816</td><td>0.150989</td><td>0.419495</td><td>0.615237</td><td>0.642499</td><td>1.231117</td><td>0.185897</td><td>0.021208</td><td>-0.033673</td><td>-2.22484</td><td>-2.265916</td><td>-2.217028</td><td>-1.841349</td><td>-0.920374</td><td>-0.548437</td><td>-0.262667</td><td>1</td><td>-0.127187</td></tr><tr><td>2.608</td><td>2.111</td><td>123.562</td><td>40.163</td><td>163.725</td><td>-1.029564</td><td>-1.382505</td><td>-1.214935</td><td>-1.020241</td><td>-0.960397</td><td>-1.048605</td><td>-1.100512</td><td>-1.125502</td><td>-0.948648</td><td>-1.382813</td><td>-1.155675</td><td>-0.938154</td><td>-0.884723</td><td>-1.07428</td><td>-1.173479</td><td>-1.18582</td><td>0.525631</td><td>-1.659673</td><td>-1.297677</td><td>-1.141278</td><td>-1.209288</td><td>-1.362582</td><td>-0.945602</td><td>-0.444541</td><td>2.148573</td><td>-0.847346</td><td>-0.580285</td><td>-0.427531</td><td>-0.449724</td><td>-0.339681</td><td>0.256421</td><td>0.868983</td><td>&hellip;</td><td>0.748208</td><td>1.47553</td><td>0.180672</td><td>0.359242</td><td>0.745627</td><td>1.459644</td><td>-0.105404</td><td>0.871998</td><td>-0.208738</td><td>0.81882</td><td>-1.627032</td><td>-0.281315</td><td>-2.392244</td><td>-0.46812</td><td>1.019065</td><td>-2.491853</td><td>1.788676</td><td>-0.067634</td><td>-0.051776</td><td>0.071816</td><td>0.150989</td><td>0.419495</td><td>0.615237</td><td>0.642499</td><td>1.231117</td><td>0.185897</td><td>0.021208</td><td>-0.033673</td><td>-2.22484</td><td>-2.265916</td><td>-2.217028</td><td>-1.841349</td><td>-0.920374</td><td>-0.548437</td><td>-0.262667</td><td>2</td><td>0.24678</td></tr><tr><td>2.768</td><td>10.787</td><td>126.137</td><td>118.266</td><td>244.403</td><td>-2.59409</td><td>-5.486158</td><td>-4.744466</td><td>-3.930152</td><td>-3.275324</td><td>-2.795483</td><td>-2.697029</td><td>-2.631111</td><td>-0.930428</td><td>-4.773587</td><td>-3.225123</td><td>-2.140452</td><td>-1.375326</td><td>-0.993945</td><td>-1.053773</td><td>-1.062467</td><td>1.31847</td><td>-2.916145</td><td>-0.322479</td><td>0.51916</td><td>0.77634</td><td>0.483633</td><td>0.278665</td><td>0.351723</td><td>0.763206</td><td>-2.738539</td><td>-0.18359</td><td>0.544262</td><td>0.767578</td><td>0.475454</td><td>0.100709</td><td>-0.209634</td><td>&hellip;</td><td>-0.766864</td><td>-1.512322</td><td>-0.182986</td><td>-0.363845</td><td>0.132477</td><td>-0.416717</td><td>-0.046599</td><td>-1.177687</td><td>0.299605</td><td>-0.547413</td><td>0.821252</td><td>-0.050887</td><td>0.297369</td><td>0.066596</td><td>0.119275</td><td>0.963983</td><td>-1.606402</td><td>1.719548</td><td>1.803197</td><td>1.524652</td><td>1.124052</td><td>-0.008325</td><td>-0.400058</td><td>-0.212477</td><td>-0.146789</td><td>2.471421</td><td>-0.021047</td><td>0.046463</td><td>-0.00046</td><td>-0.000573</td><td>-0.010408</td><td>-0.076379</td><td>-0.150048</td><td>-0.114673</td><td>-0.170911</td><td>3</td><td>-1.220725</td></tr><tr><td>0.948</td><td>12.157</td><td>16.069</td><td>31.723</td><td>47.792</td><td>0.240745</td><td>0.997585</td><td>1.028965</td><td>1.081052</td><td>0.811895</td><td>0.140567</td><td>-0.019137</td><td>0.019558</td><td>0.123288</td><td>-0.036963</td><td>0.238274</td><td>0.294708</td><td>0.174069</td><td>-0.19868</td><td>-0.276774</td><td>-0.192456</td><td>-0.69019</td><td>-0.296766</td><td>-0.15669</td><td>-0.207432</td><td>-0.272406</td><td>-0.306263</td><td>-0.334957</td><td>-0.319814</td><td>-1.055234</td><td>-0.506583</td><td>-0.333547</td><td>-0.30927</td><td>-0.248058</td><td>-0.257161</td><td>-0.377619</td><td>-0.552696</td><td>&hellip;</td><td>0.0</td><td>0.0</td><td>0.0</td><td>0.0</td><td>-0.878104</td><td>-1.042928</td><td>0.152003</td><td>-0.07227</td><td>-0.364937</td><td>-0.271429</td><td>-0.207717</td><td>-0.06012</td><td>2.065504</td><td>0.203831</td><td>-2.472034</td><td>1.079878</td><td>-1.480635</td><td>-1.773439</td><td>-1.885815</td><td>-1.649609</td><td>-1.357253</td><td>-1.07245</td><td>-1.206275</td><td>-1.541288</td><td>-0.399608</td><td>-1.606766</td><td>0.011013</td><td>-0.002753</td><td>2.224681</td><td>2.269296</td><td>2.314533</td><td>2.376828</td><td>2.551521</td><td>2.762865</td><td>2.995576</td><td>4</td><td>0.214973</td></tr><tr><td>1.084</td><td>3.493</td><td>32.679</td><td>37.327</td><td>70.006</td><td>0.067189</td><td>0.772852</td><td>0.772152</td><td>0.714846</td><td>0.514422</td><td>0.099683</td><td>-0.085127</td><td>-0.163693</td><td>-0.961655</td><td>0.332133</td><td>0.294928</td><td>0.132711</td><td>-0.241271</td><td>-0.942707</td><td>-1.209709</td><td>-1.300811</td><td>2.070281</td><td>0.226949</td><td>-0.006069</td><td>-0.267187</td><td>-0.561779</td><td>-0.747072</td><td>-0.444194</td><td>0.172938</td><td>2.35154</td><td>0.016358</td><td>-0.154874</td><td>-0.244417</td><td>-0.289631</td><td>-0.244339</td><td>0.038124</td><td>0.589887</td><td>&hellip;</td><td>0.0</td><td>0.0</td><td>0.0</td><td>0.0</td><td>-0.059186</td><td>-0.397288</td><td>-1.483119</td><td>-0.401339</td><td>-1.753348</td><td>-0.647301</td><td>-0.845195</td><td>-0.490943</td><td>-1.031199</td><td>-0.494127</td><td>3.337735</td><td>-0.686526</td><td>1.198963</td><td>0.063987</td><td>0.054407</td><td>0.116229</td><td>0.269355</td><td>0.962146</td><td>1.441141</td><td>1.469601</td><td>-0.510524</td><td>-1.048032</td><td>-0.082253</td><td>0.028465</td><td>-2.224328</td><td>-2.268671</td><td>-2.297532</td><td>-2.278039</td><td>-2.38532</td><td>-2.611811</td><td>-2.602539</td><td>5</td><td>0.166043</td></tr></tbody></table></div>"
      ],
      "text/plain": [
       "shape: (5, 1_568)\n",
       "┌─────────┬─────────┬─────────┬──────────┬───┬───────────┬───────────┬─────┬────────────┐\n",
       "│ bid_qty ┆ ask_qty ┆ buy_qty ┆ sell_qty ┆ … ┆ X779_diff ┆ X780_diff ┆ ID  ┆ prediction │\n",
       "│ ---     ┆ ---     ┆ ---     ┆ ---      ┆   ┆ ---       ┆ ---       ┆ --- ┆ ---        │\n",
       "│ f64     ┆ f64     ┆ f64     ┆ f64      ┆   ┆ f64       ┆ f64       ┆ i64 ┆ f64        │\n",
       "╞═════════╪═════════╪═════════╪══════════╪═══╪═══════════╪═══════════╪═════╪════════════╡\n",
       "│ 0.317   ┆ 8.102   ┆ 13.164  ┆ 10.272   ┆ … ┆ -0.548437 ┆ -0.262667 ┆ 1   ┆ -0.127187  │\n",
       "│ 2.608   ┆ 2.111   ┆ 123.562 ┆ 40.163   ┆ … ┆ -0.548437 ┆ -0.262667 ┆ 2   ┆ 0.24678    │\n",
       "│ 2.768   ┆ 10.787  ┆ 126.137 ┆ 118.266  ┆ … ┆ -0.114673 ┆ -0.170911 ┆ 3   ┆ -1.220725  │\n",
       "│ 0.948   ┆ 12.157  ┆ 16.069  ┆ 31.723   ┆ … ┆ 2.762865  ┆ 2.995576  ┆ 4   ┆ 0.214973   │\n",
       "│ 1.084   ┆ 3.493   ┆ 32.679  ┆ 37.327   ┆ … ┆ -2.611811 ┆ -2.602539 ┆ 5   ┆ 0.166043   │\n",
       "└─────────┴─────────┴─────────┴──────────┴───┴───────────┴───────────┴─────┴────────────┘"
      ]
     },
     "execution_count": 10,
     "metadata": {},
     "output_type": "execute_result"
    }
   ],
   "source": [
    "n = crypto_lazy_test.select(pl.len()).collect().item()\n",
    "crypto_lazy_test = crypto_lazy_test.with_columns(\n",
    "    ID=range(1, n+1),\n",
    "    prediction=y_hat_lgb_test\n",
    ")\n",
    "crypto_lazy_test.head(5).collect()"
   ]
  },
  {
   "cell_type": "code",
   "execution_count": 11,
   "id": "35eafe02",
   "metadata": {
    "execution": {
     "iopub.execute_input": "2025-07-18T14:01:25.554543Z",
     "iopub.status.busy": "2025-07-18T14:01:25.554234Z",
     "iopub.status.idle": "2025-07-18T14:01:36.856373Z",
     "shell.execute_reply": "2025-07-18T14:01:36.851328Z"
    },
    "papermill": {
     "duration": 11.314323,
     "end_time": "2025-07-18T14:01:36.860819",
     "exception": false,
     "start_time": "2025-07-18T14:01:25.546496",
     "status": "completed"
    },
    "tags": []
   },
   "outputs": [],
   "source": [
    "crypto_lazy_test.select([pl.col(\"ID\"), pl.col(\"prediction\")]).collect().write_csv(Path(\"submission.csv\"))"
   ]
  },
  {
   "cell_type": "code",
   "execution_count": null,
   "id": "2db76549",
   "metadata": {
    "papermill": {
     "duration": 0.009442,
     "end_time": "2025-07-18T14:01:36.884120",
     "exception": false,
     "start_time": "2025-07-18T14:01:36.874678",
     "status": "completed"
    },
    "tags": []
   },
   "outputs": [],
   "source": []
  }
 ],
 "metadata": {
  "kaggle": {
   "accelerator": "none",
   "dataSources": [
    {
     "databundleVersionId": 12993472,
     "sourceId": 96164,
     "sourceType": "competition"
    }
   ],
   "dockerImageVersionId": 31089,
   "isGpuEnabled": false,
   "isInternetEnabled": true,
   "language": "python",
   "sourceType": "notebook"
  },
  "kernelspec": {
   "display_name": "Python 3",
   "language": "python",
   "name": "python3"
  },
  "language_info": {
   "codemirror_mode": {
    "name": "ipython",
    "version": 3
   },
   "file_extension": ".py",
   "mimetype": "text/x-python",
   "name": "python",
   "nbconvert_exporter": "python",
   "pygments_lexer": "ipython3",
   "version": "3.11.13"
  },
  "papermill": {
   "default_parameters": {},
   "duration": 455.539106,
   "end_time": "2025-07-18T14:01:42.985449",
   "environment_variables": {},
   "exception": null,
   "input_path": "__notebook__.ipynb",
   "output_path": "__notebook__.ipynb",
   "parameters": {},
   "start_time": "2025-07-18T13:54:07.446343",
   "version": "2.6.0"
  }
 },
 "nbformat": 4,
 "nbformat_minor": 5
}
