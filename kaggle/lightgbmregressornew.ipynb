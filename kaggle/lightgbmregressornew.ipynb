{
 "cells": [
  {
   "cell_type": "code",
   "execution_count": 3,
   "id": "6132bd25",
   "metadata": {
    "_cell_guid": "b1076dfc-b9ad-4769-8c92-a6c4dae69d19",
    "_uuid": "8f2839f25d086af736a60e9eeb907d3b93b6e0e5",
    "execution": {
     "iopub.execute_input": "2025-07-19T14:23:33.800307Z",
     "iopub.status.busy": "2025-07-19T14:23:33.799972Z",
     "iopub.status.idle": "2025-07-19T14:23:44.322412Z",
     "shell.execute_reply": "2025-07-19T14:23:44.321206Z"
    },
    "papermill": {
     "duration": 10.528973,
     "end_time": "2025-07-19T14:23:44.324097",
     "exception": false,
     "start_time": "2025-07-19T14:23:33.795124",
     "status": "completed"
    },
    "tags": []
   },
   "outputs": [],
   "source": [
    "import numpy as np\n",
    "import pandas as pd \n",
    "from typing import List\n",
    "from pathlib import Path\n",
    "import polars as pl\n",
    "from scipy.stats import pearsonr\n",
    "from sklearn.metrics import r2_score\n",
    "import lightgbm as lgb\n",
    "import os\n",
    "\n",
    "for dirname, _, filenames in os.walk('/kaggle/'):\n",
    "    for filename in filenames:\n",
    "        print(os.path.join(dirname, filename))\n",
    "\n",
    "KAGGLE = False # define paths accordingly\n",
    "SUBMISSION = False # use smaller datasets during dev\n",
    "\n",
    "if KAGGLE:\n",
    "    crypto_folder = Path(\"/kaggle/input/drw-crypto-market-prediction\")\n",
    "else:\n",
    "    crypto_folder = Path(\"../raw_data/crypto\")"
   ]
  },
  {
   "cell_type": "markdown",
   "id": "d06a3511",
   "metadata": {},
   "source": [
    "- train / test split \n",
    "- test scores\n",
    "- retry linear regression\n",
    "- try adding linear regression to lgb model"
   ]
  },
  {
   "cell_type": "code",
   "execution_count": null,
   "id": "2c2fbbad",
   "metadata": {
    "execution": {
     "iopub.execute_input": "2025-07-19T14:23:44.332174Z",
     "iopub.status.busy": "2025-07-19T14:23:44.331499Z",
     "iopub.status.idle": "2025-07-19T14:23:44.342613Z",
     "shell.execute_reply": "2025-07-19T14:23:44.341919Z"
    },
    "papermill": {
     "duration": 0.01675,
     "end_time": "2025-07-19T14:23:44.344260",
     "exception": false,
     "start_time": "2025-07-19T14:23:44.327510",
     "status": "completed"
    },
    "tags": []
   },
   "outputs": [],
   "source": [
    "\n",
    "def get_clean_crypto_data(train: bool = True) -> pl.LazyFrame:\n",
    "    \"\"\"\n",
    "    Load and clean crypto data, returning either train or test set.\n",
    "    \n",
    "    Args:\n",
    "        train: If True, return training set. If False, return test set.\n",
    "        \n",
    "    Returns:\n",
    "        Cleaned lazy frame with columns that have variance and no infinite values.\n",
    "    \"\"\"\n",
    "    \n",
    "    filename = \"train.parquet\" if train else \"test.parquet\"\n",
    "    \n",
    "    # load data\n",
    "    crypto_lazy = pl.scan_parquet(crypto_folder / filename)\n",
    "    \n",
    "    # rename timestamp column\n",
    "    if train and KAGGLE:\n",
    "        crypto_lazy = crypto_lazy.with_columns(pl.col(\"__index_level_0__\").alias(\"timestamp\")).drop([\"__index_level_0__\"])\n",
    "    \n",
    "    # Get column names and calculate variance on training set (for consistency)\n",
    "    crypto_var = train_lazy.select(pl.exclude([\"timestamp\"]).var()).collect()\n",
    "    \n",
    "    # Remove columns with zero variance\n",
    "    train_lazy = pl.scan_parquet(crypto_folder / \"train.parquet\").with_columns(pl.col(\"__index_level_0__\").alias(\"timestamp\")).drop([\"__index_level_0__\"])\n",
    "    \n",
    "    crypto_var_cols = crypto_var.select(pl.all() == 0.0).to_pandas().T.rename(\n",
    "        columns={0: \"is_variance_null\"}\n",
    "    ).reset_index().rename(columns={\"index\": \"column_name\"}).groupby(\n",
    "        \"is_variance_null\"\n",
    "    )[\"column_name\"].unique()\n",
    "    \n",
    "    crypto_cols_with_var = crypto_var_cols[False]\n",
    "    \n",
    "    try:\n",
    "        cols_no_var = crypto_var_cols[True]\n",
    "        print(f\"Columns with no variance : {cols_no_var}\")\n",
    "    except IndexError:\n",
    "        print(\"All columns have variance in the train set\")\n",
    "\n",
    "    # remove columns that have no variance in the training set \n",
    "    train_lazy_var = train_lazy.select(\n",
    "        [\"timestamp\"] + [pl.col(c) for c in crypto_cols_with_var]\n",
    "    )\n",
    "    \n",
    "    # Remove columns with infinite values (check on training set)\n",
    "    current_columns = train_lazy_var.collect_schema().names()\n",
    "    contains_infinite_cols = train_lazy_var.select(\n",
    "        pl.exclude(\"timestamp\").abs().max().is_infinite()\n",
    "    ).collect().to_pandas().T.rename(\n",
    "        columns={0: \"contains_infinite\"}\n",
    "    ).reset_index().rename(columns={\"index\": \"column_name\"}).groupby(\n",
    "        \"contains_infinite\"\n",
    "    )[\"column_name\"].unique()\n",
    "    \n",
    "    # Filter clean columns based on what's available in the current dataset\n",
    "    clean_columns = [c for c in current_columns if c in contains_infinite_cols[False]] + [\"timestamp\"]    \n",
    "    available_columns = crypto_lazy.collect_schema().names()\n",
    "    final_columns = [c for c in clean_columns if c in available_columns]\n",
    "    \n",
    "    return crypto_lazy.select(final_columns)"
   ]
  },
  {
   "cell_type": "code",
   "execution_count": null,
   "id": "50da8ab9",
   "metadata": {
    "execution": {
     "iopub.execute_input": "2025-07-19T14:23:44.351686Z",
     "iopub.status.busy": "2025-07-19T14:23:44.351357Z",
     "iopub.status.idle": "2025-07-19T14:24:00.874125Z",
     "shell.execute_reply": "2025-07-19T14:24:00.873056Z"
    },
    "papermill": {
     "duration": 16.528608,
     "end_time": "2025-07-19T14:24:00.875942",
     "exception": false,
     "start_time": "2025-07-19T14:23:44.347334",
     "status": "completed"
    },
    "tags": []
   },
   "outputs": [],
   "source": [
    "stats_columns = [\"timestamp\", \"bid_qty\", \"ask_qty\", \"buy_qty\", \"sell_qty\", \"volume\", \"label\"]\n",
    "stats_columns_test = [\"ID\", \"bid_qty\", \"ask_qty\", \"buy_qty\", \"sell_qty\", \"volume\", \"label\"]\n",
    "X_exclude = [\"timestamp\", \"label\"]\n",
    "X_test_exclude = [\"ID\", \"label\"]\n",
    "\n",
    "crypto_lazy_clean = get_clean_crypto_data(train=True)"
   ]
  },
  {
   "cell_type": "code",
   "execution_count": null,
   "id": "99441271",
   "metadata": {
    "execution": {
     "iopub.execute_input": "2025-07-19T14:24:00.883785Z",
     "iopub.status.busy": "2025-07-19T14:24:00.883463Z",
     "iopub.status.idle": "2025-07-19T14:24:00.890794Z",
     "shell.execute_reply": "2025-07-19T14:24:00.889820Z"
    },
    "papermill": {
     "duration": 0.013051,
     "end_time": "2025-07-19T14:24:00.892328",
     "exception": false,
     "start_time": "2025-07-19T14:24:00.879277",
     "status": "completed"
    },
    "tags": []
   },
   "outputs": [],
   "source": [
    "def get_diff_features(df:pl.LazyFrame, stats_columns:List[str]):\n",
    "    return df.with_columns(pl.exclude(stats_columns).diff()).with_row_index().fill_null(strategy=\"backward\").select(pl.exclude(\"index\"))\n",
    "\n",
    "crypto_lazy_clean = crypto_lazy_clean.join(\n",
    "        get_diff_features(crypto_lazy_clean, stats_columns),\n",
    "        on=stats_columns,\n",
    "        how=\"inner\",\n",
    "        suffix=\"_diff\"\n",
    ")"
   ]
  },
  {
   "cell_type": "code",
   "execution_count": null,
   "id": "a3cd748d",
   "metadata": {
    "execution": {
     "iopub.execute_input": "2025-07-19T14:24:00.899600Z",
     "iopub.status.busy": "2025-07-19T14:24:00.899284Z",
     "iopub.status.idle": "2025-07-19T14:24:13.869283Z",
     "shell.execute_reply": "2025-07-19T14:24:13.868327Z"
    },
    "papermill": {
     "duration": 12.975571,
     "end_time": "2025-07-19T14:24:13.871039",
     "exception": false,
     "start_time": "2025-07-19T14:24:00.895468",
     "status": "completed"
    },
    "tags": []
   },
   "outputs": [],
   "source": [
    "X = crypto_lazy_clean.select(pl.exclude(X_exclude)).collect().to_numpy()\n",
    "y = crypto_lazy_clean.select(pl.col(\"label\")).collect().to_numpy().T[0]"
   ]
  },
  {
   "cell_type": "code",
   "execution_count": null,
   "id": "38bcb883",
   "metadata": {
    "execution": {
     "iopub.execute_input": "2025-07-19T14:24:13.878396Z",
     "iopub.status.busy": "2025-07-19T14:24:13.878099Z",
     "iopub.status.idle": "2025-07-19T14:29:43.017962Z",
     "shell.execute_reply": "2025-07-19T14:29:43.016771Z"
    },
    "papermill": {
     "duration": 329.15209,
     "end_time": "2025-07-19T14:29:43.026319",
     "exception": false,
     "start_time": "2025-07-19T14:24:13.874229",
     "status": "completed"
    },
    "tags": []
   },
   "outputs": [],
   "source": [
    "lgb_model = lgb.LGBMRegressor(random_state=42, weight=np.flip(1. / np.sqrt(np.arange(1, len(X)))))\n",
    "lgb_model.fit(X, y)"
   ]
  },
  {
   "cell_type": "code",
   "execution_count": null,
   "id": "d8106e21",
   "metadata": {
    "execution": {
     "iopub.execute_input": "2025-07-19T14:29:43.035291Z",
     "iopub.status.busy": "2025-07-19T14:29:43.034914Z",
     "iopub.status.idle": "2025-07-19T14:30:06.643884Z",
     "shell.execute_reply": "2025-07-19T14:30:06.642921Z"
    },
    "papermill": {
     "duration": 23.615616,
     "end_time": "2025-07-19T14:30:06.645674",
     "exception": false,
     "start_time": "2025-07-19T14:29:43.030058",
     "status": "completed"
    },
    "tags": []
   },
   "outputs": [],
   "source": [
    "crypto_lazy_test = get_clean_crypto_data(train=False)\n",
    "\n",
    "# create unique row identifier\n",
    "n = crypto_lazy_test.select(pl.len()).collect().item()\n",
    "crypto_lazy_test = crypto_lazy_test.with_columns(\n",
    "    ID=range(1, n+1)\n",
    ")\n",
    "\n",
    "print(crypto_lazy_test.select(pl.len()).collect().item())\n",
    "\n",
    "crypto_lazy_test = crypto_lazy_test.join(\n",
    "        get_diff_features(crypto_lazy_test, stats_columns_test),\n",
    "        on=stats_columns_test,\n",
    "        how=\"inner\",\n",
    "        suffix=\"_diff\"\n",
    ")\n",
    "\n",
    "# crypto_lazy_test = get_diff_features(crypto_lazy_test, stats_columns_test)\n",
    "assert n == crypto_lazy_test.select(pl.len()).collect().item()"
   ]
  },
  {
   "cell_type": "code",
   "execution_count": null,
   "id": "681bdba8",
   "metadata": {
    "execution": {
     "iopub.execute_input": "2025-07-19T14:30:06.654367Z",
     "iopub.status.busy": "2025-07-19T14:30:06.654044Z",
     "iopub.status.idle": "2025-07-19T14:30:22.822441Z",
     "shell.execute_reply": "2025-07-19T14:30:22.818883Z"
    },
    "papermill": {
     "duration": 16.222762,
     "end_time": "2025-07-19T14:30:22.872192",
     "exception": false,
     "start_time": "2025-07-19T14:30:06.649430",
     "status": "completed"
    },
    "tags": []
   },
   "outputs": [],
   "source": [
    "X_test = crypto_lazy_test.select(pl.exclude(X_test_exclude)).collect().to_numpy()\n",
    "X_test.shape, X.shape"
   ]
  },
  {
   "cell_type": "code",
   "execution_count": null,
   "id": "1be2cf06",
   "metadata": {
    "execution": {
     "iopub.execute_input": "2025-07-19T14:30:22.889693Z",
     "iopub.status.busy": "2025-07-19T14:30:22.889408Z",
     "iopub.status.idle": "2025-07-19T14:30:24.121656Z",
     "shell.execute_reply": "2025-07-19T14:30:24.120673Z"
    },
    "papermill": {
     "duration": 1.240864,
     "end_time": "2025-07-19T14:30:24.123468",
     "exception": false,
     "start_time": "2025-07-19T14:30:22.882604",
     "status": "completed"
    },
    "tags": []
   },
   "outputs": [],
   "source": [
    "del X\n",
    "del y"
   ]
  },
  {
   "cell_type": "code",
   "execution_count": null,
   "id": "387a2070",
   "metadata": {
    "execution": {
     "iopub.execute_input": "2025-07-19T14:30:24.132012Z",
     "iopub.status.busy": "2025-07-19T14:30:24.131647Z",
     "iopub.status.idle": "2025-07-19T14:30:44.406476Z",
     "shell.execute_reply": "2025-07-19T14:30:44.405702Z"
    },
    "papermill": {
     "duration": 20.280796,
     "end_time": "2025-07-19T14:30:44.408049",
     "exception": false,
     "start_time": "2025-07-19T14:30:24.127253",
     "status": "completed"
    },
    "tags": []
   },
   "outputs": [],
   "source": [
    "y_hat_lgb_test = lgb_model.predict(X_test)\n",
    "\n",
    "del X_test"
   ]
  },
  {
   "cell_type": "code",
   "execution_count": null,
   "id": "44470208",
   "metadata": {
    "execution": {
     "iopub.execute_input": "2025-07-19T14:30:44.416562Z",
     "iopub.status.busy": "2025-07-19T14:30:44.415864Z",
     "iopub.status.idle": "2025-07-19T14:30:50.219769Z",
     "shell.execute_reply": "2025-07-19T14:30:50.218663Z"
    },
    "papermill": {
     "duration": 5.810446,
     "end_time": "2025-07-19T14:30:50.221996",
     "exception": false,
     "start_time": "2025-07-19T14:30:44.411550",
     "status": "completed"
    },
    "tags": []
   },
   "outputs": [],
   "source": [
    "crypto_lazy_test = crypto_lazy_test.with_columns(\n",
    "    ID=range(1, n+1),\n",
    "    prediction=y_hat_lgb_test\n",
    ")\n",
    "crypto_lazy_test.head(5).collect()"
   ]
  },
  {
   "cell_type": "code",
   "execution_count": null,
   "id": "41772c33",
   "metadata": {
    "execution": {
     "iopub.execute_input": "2025-07-19T14:30:50.238767Z",
     "iopub.status.busy": "2025-07-19T14:30:50.238475Z",
     "iopub.status.idle": "2025-07-19T14:30:50.657009Z",
     "shell.execute_reply": "2025-07-19T14:30:50.655783Z"
    },
    "papermill": {
     "duration": 0.427439,
     "end_time": "2025-07-19T14:30:50.658972",
     "exception": false,
     "start_time": "2025-07-19T14:30:50.231533",
     "status": "completed"
    },
    "tags": []
   },
   "outputs": [],
   "source": [
    "crypto_lazy_test.select([pl.col(\"ID\"), pl.col(\"prediction\")]).collect().write_csv(Path(\"submission.csv\"))"
   ]
  },
  {
   "cell_type": "code",
   "execution_count": null,
   "id": "341c79c1",
   "metadata": {
    "papermill": {
     "duration": 0.005736,
     "end_time": "2025-07-19T14:30:50.668455",
     "exception": false,
     "start_time": "2025-07-19T14:30:50.662719",
     "status": "completed"
    },
    "tags": []
   },
   "outputs": [],
   "source": []
  }
 ],
 "metadata": {
  "kaggle": {
   "accelerator": "none",
   "dataSources": [
    {
     "databundleVersionId": 12993472,
     "sourceId": 96164,
     "sourceType": "competition"
    }
   ],
   "dockerImageVersionId": 31089,
   "isGpuEnabled": false,
   "isInternetEnabled": true,
   "language": "python",
   "sourceType": "notebook"
  },
  "kernelspec": {
   "display_name": "irbackend",
   "language": "python",
   "name": "python3"
  },
  "language_info": {
   "codemirror_mode": {
    "name": "ipython",
    "version": 3
   },
   "file_extension": ".py",
   "mimetype": "text/x-python",
   "name": "python",
   "nbconvert_exporter": "python",
   "pygments_lexer": "ipython3",
   "version": "3.12.3"
  },
  "papermill": {
   "default_parameters": {},
   "duration": 445.50381,
   "end_time": "2025-07-19T14:30:54.373206",
   "environment_variables": {},
   "exception": null,
   "input_path": "__notebook__.ipynb",
   "output_path": "__notebook__.ipynb",
   "parameters": {},
   "start_time": "2025-07-19T14:23:28.869396",
   "version": "2.6.0"
  }
 },
 "nbformat": 4,
 "nbformat_minor": 5
}
