{
 "cells": [
  {
   "cell_type": "markdown",
   "id": "e14165a8",
   "metadata": {
    "papermill": {
     "duration": 0.004611,
     "end_time": "2025-07-21T19:57:15.492572",
     "exception": false,
     "start_time": "2025-07-21T19:57:15.487961",
     "status": "completed"
    },
    "tags": []
   },
   "source": [
    "# Staked Random Forest with Light GBM\n",
    "\n",
    "- First tried `linear regression` : $R^2 \\approx 0.05$\n",
    "- Data not centered, variance similar between all $X$ variables\n",
    "- `random forest` : $R^2 \\approx 0.17$,\n",
    "    - expected to avoid overfitting,\n",
    "- apply learning rate to compute the residuals for the next layer,\n",
    "- `LGBM` best performer so far (standalone $R^2 \\approx 0.56$)  \n",
    "\n",
    "Improved standalone LGBM by a small margin : $R^2 \\approx 0.58$."
   ]
  },
  {
   "cell_type": "code",
   "execution_count": null,
   "id": "4860b760",
   "metadata": {
    "_cell_guid": "b1076dfc-b9ad-4769-8c92-a6c4dae69d19",
    "_uuid": "8f2839f25d086af736a60e9eeb907d3b93b6e0e5",
    "execution": {
     "iopub.execute_input": "2025-07-21T19:57:15.502025Z",
     "iopub.status.busy": "2025-07-21T19:57:15.501588Z",
     "iopub.status.idle": "2025-07-21T19:57:27.118019Z",
     "shell.execute_reply": "2025-07-21T19:57:27.116680Z"
    },
    "papermill": {
     "duration": 11.623124,
     "end_time": "2025-07-21T19:57:27.119780",
     "exception": false,
     "start_time": "2025-07-21T19:57:15.496656",
     "status": "completed"
    },
    "tags": []
   },
   "outputs": [],
   "source": [
    "import os\n",
    "import numpy as np\n",
    "import pandas as pd\n",
    "import polars as pl\n",
    "from typing import List\n",
    "from pathlib import Path\n",
    "from scipy.stats import pearsonr\n",
    "from sklearn.metrics import r2_score\n",
    "from sklearn.model_selection import train_test_split\n",
    "\n",
    "from sklearn.ensemble import RandomForestRegressor\n",
    "import lightgbm as lgb\n",
    "\n",
    "for dirname, _, filenames in os.walk(\"/kaggle/\"):\n",
    "    for filename in filenames:\n",
    "        print(os.path.join(dirname, filename))\n",
    "\n",
    "KAGGLE = True  # define paths accordingly\n",
    "SUBMISSION = True  # use smaller datasets during dev\n",
    "\n",
    "if KAGGLE:\n",
    "    crypto_folder = Path(\"/kaggle/input/drw-crypto-market-prediction\")\n",
    "else:\n",
    "    crypto_folder = Path(\"../raw_data/crypto\")"
   ]
  },
  {
   "cell_type": "markdown",
   "id": "e60f7fbe",
   "metadata": {
    "papermill": {
     "duration": 0.003755,
     "end_time": "2025-07-21T19:57:27.128441",
     "exception": false,
     "start_time": "2025-07-21T19:57:27.124686",
     "status": "completed"
    },
    "tags": []
   },
   "source": [
    "## Helper functions"
   ]
  },
  {
   "cell_type": "code",
   "execution_count": null,
   "id": "d90028da",
   "metadata": {
    "execution": {
     "iopub.execute_input": "2025-07-21T19:57:27.138185Z",
     "iopub.status.busy": "2025-07-21T19:57:27.137480Z",
     "iopub.status.idle": "2025-07-21T19:57:27.154377Z",
     "shell.execute_reply": "2025-07-21T19:57:27.153108Z"
    },
    "papermill": {
     "duration": 0.023829,
     "end_time": "2025-07-21T19:57:27.156256",
     "exception": false,
     "start_time": "2025-07-21T19:57:27.132427",
     "status": "completed"
    },
    "tags": []
   },
   "outputs": [],
   "source": [
    "def get_clean_crypto_data(train: bool = True) -> pl.LazyFrame:\n",
    "    \"\"\"\n",
    "    Load and clean crypto data, returning either train or test set.\n",
    "\n",
    "    Args:\n",
    "        train: If True, return training set. If False, return test set.\n",
    "\n",
    "    Returns:\n",
    "        Cleaned lazy frame with columns that have variance and no infinite values.\n",
    "    \"\"\"\n",
    "\n",
    "    filename = \"train.parquet\" if train else \"test.parquet\"\n",
    "\n",
    "    # load data\n",
    "    crypto_lazy = pl.scan_parquet(crypto_folder / filename)\n",
    "    n_cols = len(crypto_lazy.collect_schema().names())\n",
    "\n",
    "    if train and KAGGLE:\n",
    "        # rename timestamp column\n",
    "        crypto_lazy = crypto_lazy.with_columns(\n",
    "            pl.col(\"__index_level_0__\").alias(\"timestamp\")\n",
    "        ).drop([\"__index_level_0__\"])\n",
    "\n",
    "    # Remove columns with zero variance in the training set\n",
    "    train_lazy = pl.scan_parquet(crypto_folder / \"train.parquet\")\n",
    "    if KAGGLE:\n",
    "        train_lazy = train_lazy.with_columns(\n",
    "            pl.col(\"__index_level_0__\").alias(\"timestamp\")\n",
    "        ).drop([\"__index_level_0__\"])\n",
    "\n",
    "    # Get column names and calculate variance on training set (for consistency)\n",
    "    crypto_var = train_lazy.select(pl.exclude([\"timestamp\"]).var())\n",
    "\n",
    "    crypto_var_cols = (\n",
    "        crypto_var.select(pl.all() == 0.0)\n",
    "        .first()\n",
    "        .collect()\n",
    "        .to_pandas()\n",
    "        .T.rename(columns={0: \"is_variance_null\"})\n",
    "        .reset_index()\n",
    "        .rename(columns={\"index\": \"column_name\"})\n",
    "        .groupby(\"is_variance_null\")[\"column_name\"]\n",
    "        .unique()\n",
    "    )\n",
    "\n",
    "    crypto_cols_with_var = crypto_var_cols[False]\n",
    "\n",
    "    try:\n",
    "        cols_no_var = crypto_var_cols[True]\n",
    "        print(f\"Columns with no variance : {cols_no_var}\")\n",
    "    except KeyError:\n",
    "        print(\"All columns have variance in the train set\")\n",
    "\n",
    "    # remove columns that have no variance in the training set\n",
    "    train_lazy = train_lazy.select(\n",
    "        [\"timestamp\"] + [pl.col(c) for c in crypto_cols_with_var]\n",
    "    )\n",
    "\n",
    "    # Remove columns with infinite values (check on training set)\n",
    "    current_columns = train_lazy.collect_schema().names()\n",
    "    contains_infinite_cols = (\n",
    "        train_lazy.select(pl.exclude(\"timestamp\").abs().max().is_infinite())\n",
    "        .collect()\n",
    "        .to_pandas()\n",
    "        .T.rename(columns={0: \"contains_infinite\"})\n",
    "        .reset_index()\n",
    "        .rename(columns={\"index\": \"column_name\"})\n",
    "        .groupby(\"contains_infinite\")[\"column_name\"]\n",
    "        .unique()\n",
    "    )\n",
    "\n",
    "    try:\n",
    "        cols_with_inf_vals = contains_infinite_cols[True]\n",
    "        print(f\"Columns with infinite values : {cols_with_inf_vals}\")\n",
    "    except KeyError:\n",
    "        print(\"No columns with infinite values\")\n",
    "\n",
    "    if not train:\n",
    "        # add dummy timestamps\n",
    "        crypto_lazy = crypto_lazy.with_columns(\n",
    "            ID=range(1, crypto_lazy.select(pl.len()).collect().item() + 1)\n",
    "        )\n",
    "    # Filter clean columns based on what's available in the current dataset\n",
    "    clean_columns = [\n",
    "        c for c in current_columns if c in contains_infinite_cols[False]\n",
    "    ] + [\"timestamp\", \"ID\"]\n",
    "    available_columns = crypto_lazy.collect_schema().names()\n",
    "    final_columns = [c for c in clean_columns if c in available_columns]\n",
    "    print(f\"Eventually {len(final_columns)}, removed {n_cols - len(final_columns)}\")\n",
    "\n",
    "    return crypto_lazy.select(final_columns)\n",
    "\n",
    "\n",
    "def get_diff_features(df: pl.LazyFrame, stats_columns: List[str]):\n",
    "    return (\n",
    "        df.with_columns(pl.exclude(stats_columns).diff())\n",
    "        .with_row_index()\n",
    "        .fill_null(strategy=\"backward\")\n",
    "        .select(pl.exclude(\"index\"))\n",
    "    )\n",
    "\n",
    "def get_ma_features(df: pl.LazyFrame, cols: List[str], ws:int=100):\n",
    "    return (\n",
    "        df.with_columns(\n",
    "            pl.col(cols)\n",
    "            .rolling_mean(\n",
    "                window_size=ws, \n",
    "                min_samples=1\n",
    "                )\n",
    "        )\n",
    "    )\n",
    "\n",
    "def get_rolling_var(df: pl.LazyFrame, cols: List[str], ws:int=100):\n",
    "    return (\n",
    "        df.with_columns(\n",
    "            pl.col(cols)\n",
    "            .rolling_var(\n",
    "                window_size=ws,\n",
    "                min_samples=1\n",
    "            ).backward_fill()\n",
    "        )\n",
    "    )"
   ]
  },
  {
   "cell_type": "markdown",
   "id": "1bcd0c92",
   "metadata": {
    "papermill": {
     "duration": 0.003647,
     "end_time": "2025-07-21T19:57:27.164045",
     "exception": false,
     "start_time": "2025-07-21T19:57:27.160398",
     "status": "completed"
    },
    "tags": []
   },
   "source": [
    "## Metadata"
   ]
  },
  {
   "cell_type": "code",
   "execution_count": null,
   "id": "367643b2",
   "metadata": {
    "execution": {
     "iopub.execute_input": "2025-07-21T19:57:27.172925Z",
     "iopub.status.busy": "2025-07-21T19:57:27.172557Z",
     "iopub.status.idle": "2025-07-21T19:57:27.178150Z",
     "shell.execute_reply": "2025-07-21T19:57:27.177192Z"
    },
    "papermill": {
     "duration": 0.012008,
     "end_time": "2025-07-21T19:57:27.179813",
     "exception": false,
     "start_time": "2025-07-21T19:57:27.167805",
     "status": "completed"
    },
    "tags": []
   },
   "outputs": [],
   "source": [
    "stats_columns = [\n",
    "    \"timestamp\",\n",
    "    \"bid_qty\",\n",
    "    \"ask_qty\",\n",
    "    \"buy_qty\",\n",
    "    \"sell_qty\",\n",
    "    \"volume\",\n",
    "    \"label\",\n",
    "]\n",
    "stats_columns_test = [\n",
    "    \"ID\",\n",
    "    \"bid_qty\",\n",
    "    \"ask_qty\",\n",
    "    \"buy_qty\",\n",
    "    \"sell_qty\",\n",
    "    \"volume\",\n",
    "    \"label\",\n",
    "]\n",
    "X_exclude = [\"timestamp\", \"label\"]\n",
    "X_test_exclude = [\"ID\", \"label\"]"
   ]
  },
  {
   "cell_type": "markdown",
   "id": "ca5689c0",
   "metadata": {
    "papermill": {
     "duration": 0.003625,
     "end_time": "2025-07-21T19:57:27.187759",
     "exception": false,
     "start_time": "2025-07-21T19:57:27.184134",
     "status": "completed"
    },
    "tags": []
   },
   "source": [
    "## Load data"
   ]
  },
  {
   "cell_type": "code",
   "execution_count": null,
   "id": "d7e9fa6e",
   "metadata": {
    "execution": {
     "iopub.execute_input": "2025-07-21T19:57:27.196770Z",
     "iopub.status.busy": "2025-07-21T19:57:27.196434Z",
     "iopub.status.idle": "2025-07-21T19:57:41.470537Z",
     "shell.execute_reply": "2025-07-21T19:57:41.469170Z"
    },
    "papermill": {
     "duration": 14.280768,
     "end_time": "2025-07-21T19:57:41.472323",
     "exception": false,
     "start_time": "2025-07-21T19:57:27.191555",
     "status": "completed"
    },
    "tags": []
   },
   "outputs": [],
   "source": [
    "crypto_lazy_clean = get_clean_crypto_data(train=True)\n",
    "cols = crypto_lazy_clean.collect_schema().names()\n"
   ]
  },
  {
   "cell_type": "code",
   "execution_count": null,
   "id": "c454cca0",
   "metadata": {
    "execution": {
     "iopub.execute_input": "2025-07-21T19:57:41.482314Z",
     "iopub.status.busy": "2025-07-21T19:57:41.482001Z",
     "iopub.status.idle": "2025-07-21T19:57:41.529139Z",
     "shell.execute_reply": "2025-07-21T19:57:41.527942Z"
    },
    "papermill": {
     "duration": 0.054475,
     "end_time": "2025-07-21T19:57:41.531499",
     "exception": false,
     "start_time": "2025-07-21T19:57:41.477024",
     "status": "completed"
    },
    "tags": []
   },
   "outputs": [],
   "source": [
    "\n",
    "# join level with diff values\n",
    "# crypto_lazy_clean = crypto_lazy_clean.join(\n",
    "#     get_diff_features(crypto_lazy_clean, stats_columns),\n",
    "#     on=stats_columns,\n",
    "#     how=\"inner\",\n",
    "#     suffix=\"_diff\",\n",
    "# )\n",
    "\n",
    "crypto_lazy_clean = crypto_lazy_clean.join(\n",
    "    get_ma_features(crypto_lazy_clean, [c for c in cols if c not in stats_columns]),\n",
    "    on=stats_columns,\n",
    "    how=\"inner\",\n",
    "    suffix=\"_ma23\",\n",
    ")\n",
    "print(len(crypto_lazy_clean.collect_schema().names()))\n",
    "crypto_lazy_clean = crypto_lazy_clean.join(\n",
    "    get_rolling_var(\n",
    "        crypto_lazy_clean.select(cols), \n",
    "        [c for c in cols if c not in stats_columns]\n",
    "        ).fill_null(0.),\n",
    "    on=stats_columns,\n",
    "    how=\"inner\",\n",
    "    suffix=\"_var23\",\n",
    ")\n",
    "print(len(crypto_lazy_clean.collect_schema().names()))\n"
   ]
  },
  {
   "cell_type": "code",
   "execution_count": null,
   "id": "7806db2d",
   "metadata": {
    "execution": {
     "iopub.execute_input": "2025-07-21T19:57:41.543362Z",
     "iopub.status.busy": "2025-07-21T19:57:41.542967Z",
     "iopub.status.idle": "2025-07-21T19:58:50.031293Z",
     "shell.execute_reply": "2025-07-21T19:58:50.025168Z"
    },
    "papermill": {
     "duration": 68.50066,
     "end_time": "2025-07-21T19:58:50.037184",
     "exception": false,
     "start_time": "2025-07-21T19:57:41.536524",
     "status": "completed"
    },
    "tags": []
   },
   "outputs": [],
   "source": [
    "\n",
    "X = crypto_lazy_clean.select(pl.exclude(X_exclude)).collect().to_numpy()\n",
    "y = crypto_lazy_clean.select(pl.col(\"label\")).collect().to_numpy().T[0]\n",
    "\n",
    "if not SUBMISSION:\n",
    "    X_train, X_test, y_train, y_test = train_test_split(\n",
    "        X,\n",
    "        y,\n",
    "        test_size=0.2,\n",
    "        shuffle=False,  # TODO : question this, whether timestamps are independant draws\n",
    "        random_state=42,\n",
    "    )\n",
    "else:\n",
    "    X_train, y_train = X, y\n",
    "del X\n",
    "del y\n"
   ]
  },
  {
   "cell_type": "markdown",
   "id": "c244895e",
   "metadata": {
    "papermill": {
     "duration": 0.005701,
     "end_time": "2025-07-21T19:58:50.057413",
     "exception": false,
     "start_time": "2025-07-21T19:58:50.051712",
     "status": "completed"
    },
    "tags": []
   },
   "source": [
    "## Train model"
   ]
  },
  {
   "cell_type": "code",
   "execution_count": null,
   "id": "e6d56b9c",
   "metadata": {
    "execution": {
     "iopub.execute_input": "2025-07-21T19:58:50.069033Z",
     "iopub.status.busy": "2025-07-21T19:58:50.068567Z",
     "iopub.status.idle": "2025-07-21T20:18:07.819540Z",
     "shell.execute_reply": "2025-07-21T20:18:07.818062Z"
    },
    "papermill": {
     "duration": 1157.767206,
     "end_time": "2025-07-21T20:18:07.828944",
     "exception": false,
     "start_time": "2025-07-21T19:58:50.061738",
     "status": "completed"
    },
    "tags": []
   },
   "outputs": [],
   "source": [
    "\n",
    "lr = 1.\n",
    "\n",
    "lin = RandomForestRegressor(\n",
    "    # fit_intercept=True,\n",
    "    n_estimators=80,\n",
    "    n_jobs=-1,\n",
    "    max_depth=10,\n",
    "    min_samples_split=100,\n",
    "    min_samples_leaf=50,\n",
    "    max_features=\"sqrt\",\n",
    "    max_samples=0.5,\n",
    "    random_state=41,\n",
    ")\n",
    "# n_samples = 80_000\n",
    "lin.fit(\n",
    "    X_train,\n",
    "    y_train,\n",
    "    # sample_weight=np.flip(1.0 / np.sqrt(np.arange(1, n_samples+1)))\n",
    ")\n",
    "\n",
    "y_train_lin = lin.predict(X_train)\n",
    "\n",
    "print(f\"R2 train lin: {r2_score(y_train, y_train_lin)}\")\n",
    "print(f\"Pearson train lin : {pearsonr(y_train, y_train_lin)}\")\n",
    "\n",
    "y_train_res = y_train - lr * y_train_lin\n",
    "\n",
    "\n",
    "lgb_model = lgb.LGBMRegressor(\n",
    "    random_state=42,\n",
    "    # weight=np.flip(1.0 / np.sqrt(np.arange(1, len(X_train)+1))),\n",
    "    # n_estimators=80,\n",
    "    # max_depth=10,\n",
    "    n_jobs=-1,\n",
    ")\n",
    "lgb_model.fit(X_train, y_train_res)\n",
    "\n",
    "y_train_hat = lgb_model.predict(X_train)\n",
    "\n",
    "print(f\"R2 train : {r2_score(y_train, y_train_hat + lr * y_train_lin)}\")\n",
    "print(f\"Pearson train : {pearsonr(y_train, y_train_hat + lr * y_train_lin)}\")\n",
    "\n",
    "if not SUBMISSION:\n",
    "    y_test_lin = lin.predict(X_test)\n",
    "\n",
    "    print(f\"R2 test lin : {r2_score(y_test, y_test_lin)}\")\n",
    "    print(f\"Pearson test lin : {pearsonr(y_test, y_test_lin)}\")\n",
    "\n",
    "    y_test_hat = lgb_model.predict(X_test)\n",
    "\n",
    "    print(f\"R2 test : {r2_score(y_test, y_test_hat + lr * y_test_lin)}\")\n",
    "    print(f\"Pearson test : {pearsonr(y_test, y_test_hat + lr * y_test_lin)}\")\n",
    "\n",
    "del y_train_lin\n",
    "del y_train_res\n",
    "del y_train_hat\n",
    "del X_train\n",
    "\n",
    "    "
   ]
  },
  {
   "cell_type": "markdown",
   "id": "42adc931",
   "metadata": {
    "papermill": {
     "duration": 0.006389,
     "end_time": "2025-07-21T20:18:07.843627",
     "exception": false,
     "start_time": "2025-07-21T20:18:07.837238",
     "status": "completed"
    },
    "tags": []
   },
   "source": [
    "## Load test data"
   ]
  },
  {
   "cell_type": "code",
   "execution_count": null,
   "id": "f63e39d4",
   "metadata": {
    "execution": {
     "iopub.execute_input": "2025-07-21T20:18:07.856014Z",
     "iopub.status.busy": "2025-07-21T20:18:07.854929Z",
     "iopub.status.idle": "2025-07-21T20:18:17.970748Z",
     "shell.execute_reply": "2025-07-21T20:18:17.969445Z"
    },
    "papermill": {
     "duration": 10.124616,
     "end_time": "2025-07-21T20:18:17.972724",
     "exception": false,
     "start_time": "2025-07-21T20:18:07.848108",
     "status": "completed"
    },
    "tags": []
   },
   "outputs": [],
   "source": [
    "crypto_lazy_test = get_clean_crypto_data(train=False)\n",
    "# create unique row identifier\n",
    "# n = crypto_lazy_test.select(pl.len()).collect().item()\n",
    "# crypto_lazy_test = crypto_lazy_test.with_columns(ID=range(1, n + 1))\n",
    "\n",
    "# print(crypto_lazy_test.select(pl.len()).collect().item())\n",
    "\n",
    "# crypto_lazy_test = crypto_lazy_test.join(\n",
    "#     get_diff_features(crypto_lazy_test, stats_columns_test),\n",
    "#     on=stats_columns_test,\n",
    "#     how=\"inner\",\n",
    "#     suffix=\"_diff\",\n",
    "# )\n",
    "cols_test = crypto_lazy_test.collect_schema().names()\n",
    "crypto_lazy_test = crypto_lazy_test.join(\n",
    "    get_ma_features(crypto_lazy_test, [c for c in cols_test if c not in stats_columns_test]),\n",
    "    on=stats_columns_test,\n",
    "    how=\"inner\",\n",
    "    suffix=\"_ma23\",\n",
    ")\n",
    "crypto_lazy_test = crypto_lazy_test.join(\n",
    "    get_rolling_var(\n",
    "        crypto_lazy_test.select(cols_test), \n",
    "        [c for c in cols_test if c not in stats_columns_test]\n",
    "        ),\n",
    "    on=stats_columns_test,\n",
    "    how=\"inner\",\n",
    "    suffix=\"_var23\",\n",
    ")\n",
    "\n",
    "# crypto_lazy_test = get_diff_features(crypto_lazy_test, stats_columns_test)\n",
    "# assert n == crypto_lazy_test.select(pl.len()).collect().item()"
   ]
  },
  {
   "cell_type": "markdown",
   "id": "9f4001bb",
   "metadata": {
    "papermill": {
     "duration": 0.00424,
     "end_time": "2025-07-21T20:18:17.981707",
     "exception": false,
     "start_time": "2025-07-21T20:18:17.977467",
     "status": "completed"
    },
    "tags": []
   },
   "source": [
    "## Predict target \\& submit"
   ]
  },
  {
   "cell_type": "code",
   "execution_count": null,
   "id": "e9f479e4",
   "metadata": {
    "execution": {
     "iopub.execute_input": "2025-07-21T20:18:17.992446Z",
     "iopub.status.busy": "2025-07-21T20:18:17.991773Z",
     "iopub.status.idle": "2025-07-21T20:20:06.471360Z",
     "shell.execute_reply": "2025-07-21T20:20:06.467905Z"
    },
    "papermill": {
     "duration": 108.487726,
     "end_time": "2025-07-21T20:20:06.473935",
     "exception": false,
     "start_time": "2025-07-21T20:18:17.986209",
     "status": "completed"
    },
    "tags": []
   },
   "outputs": [],
   "source": [
    "X_test = crypto_lazy_test.select(pl.exclude(X_test_exclude)).collect().to_numpy()\n",
    "y_lin_test = lin.predict(X_test)\n",
    "y_hat_lgb_test = lgb_model.predict(X_test)\n",
    "\n",
    "del X_test"
   ]
  },
  {
   "cell_type": "code",
   "execution_count": null,
   "id": "587033b1",
   "metadata": {
    "execution": {
     "iopub.execute_input": "2025-07-21T20:20:06.493651Z",
     "iopub.status.busy": "2025-07-21T20:20:06.493312Z",
     "iopub.status.idle": "2025-07-21T20:20:07.081372Z",
     "shell.execute_reply": "2025-07-21T20:20:07.080273Z"
    },
    "papermill": {
     "duration": 0.598102,
     "end_time": "2025-07-21T20:20:07.083371",
     "exception": false,
     "start_time": "2025-07-21T20:20:06.485269",
     "status": "completed"
    },
    "tags": []
   },
   "outputs": [],
   "source": [
    "crypto_lazy_test = crypto_lazy_test.with_columns(\n",
    "    prediction=y_hat_lgb_test + lr * y_lin_test\n",
    ")\n",
    "# crypto_lazy_test.head(5).collect()\n",
    "crypto_lazy_test.select([pl.col(\"ID\"), pl.col(\"prediction\")]).collect().write_csv(\n",
    "    Path(\"submission.csv\")\n",
    ")"
   ]
  },
  {
   "cell_type": "code",
   "execution_count": null,
   "id": "9f738f14",
   "metadata": {
    "papermill": {
     "duration": 0.004234,
     "end_time": "2025-07-21T20:20:07.092330",
     "exception": false,
     "start_time": "2025-07-21T20:20:07.088096",
     "status": "completed"
    },
    "tags": []
   },
   "outputs": [],
   "source": []
  }
 ],
 "metadata": {
  "kaggle": {
   "accelerator": "none",
   "dataSources": [
    {
     "databundleVersionId": 12993472,
     "sourceId": 96164,
     "sourceType": "competition"
    }
   ],
   "dockerImageVersionId": 31089,
   "isGpuEnabled": false,
   "isInternetEnabled": true,
   "language": "python",
   "sourceType": "notebook"
  },
  "kernelspec": {
   "display_name": "irbackend",
   "language": "python",
   "name": "python3"
  },
  "language_info": {
   "codemirror_mode": {
    "name": "ipython",
    "version": 3
   },
   "file_extension": ".py",
   "mimetype": "text/x-python",
   "name": "python",
   "nbconvert_exporter": "python",
   "pygments_lexer": "ipython3",
   "version": "3.12.3"
  },
  "papermill": {
   "default_parameters": {},
   "duration": 1380.482469,
   "end_time": "2025-07-21T20:20:10.494240",
   "environment_variables": {},
   "exception": null,
   "input_path": "__notebook__.ipynb",
   "output_path": "__notebook__.ipynb",
   "parameters": {},
   "start_time": "2025-07-21T19:57:10.011771",
   "version": "2.6.0"
  }
 },
 "nbformat": 4,
 "nbformat_minor": 5
}
