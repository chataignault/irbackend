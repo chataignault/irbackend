{
 "cells": [
  {
   "cell_type": "markdown",
   "id": "023db3a2",
   "metadata": {
    "papermill": {
     "duration": 0.004144,
     "end_time": "2025-07-20T21:56:47.923216",
     "exception": false,
     "start_time": "2025-07-20T21:56:47.919072",
     "status": "completed"
    },
    "tags": []
   },
   "source": [
    "# Staked Random Forest with Light GBM\n",
    "\n",
    "- First tried `linear regression` : $R^2 \\approx 0.05$\n",
    "- Data not centered, variance similar between all $X$ variables\n",
    "- `random forest` : $R^2 \\approx 0.17$,\n",
    "    - expected to avoid overfitting,\n",
    "- apply learning rate to compute the residuals for the next layer,\n",
    "- `LGBM` best performer so far (standalone $R^2 \\approx 0.56$)  \n",
    "\n",
    "Improved standalone LGBM by a small margin : $R^2 \\approx 0.58$."
   ]
  },
  {
   "cell_type": "code",
   "execution_count": 1,
   "id": "5487f7bc",
   "metadata": {
    "_cell_guid": "b1076dfc-b9ad-4769-8c92-a6c4dae69d19",
    "_uuid": "8f2839f25d086af736a60e9eeb907d3b93b6e0e5",
    "execution": {
     "iopub.execute_input": "2025-07-20T21:56:47.932034Z",
     "iopub.status.busy": "2025-07-20T21:56:47.931156Z",
     "iopub.status.idle": "2025-07-20T21:56:56.802532Z",
     "shell.execute_reply": "2025-07-20T21:56:56.801555Z"
    },
    "papermill": {
     "duration": 8.877117,
     "end_time": "2025-07-20T21:56:56.803907",
     "exception": false,
     "start_time": "2025-07-20T21:56:47.926790",
     "status": "completed"
    },
    "tags": []
   },
   "outputs": [
    {
     "name": "stdout",
     "output_type": "stream",
     "text": [
      "/kaggle/src/script.ipynb\n",
      "/kaggle/lib/kaggle/gcp.py\n",
      "/kaggle/input/drw-crypto-market-prediction/sample_submission.csv\n",
      "/kaggle/input/drw-crypto-market-prediction/train.parquet\n",
      "/kaggle/input/drw-crypto-market-prediction/test.parquet\n",
      "/kaggle/huggingface/hf_scan.py\n",
      "/kaggle/nbdev/settings.ini\n",
      "/kaggle/nbdev/export.sh\n",
      "/kaggle/working/__notebook__.ipynb\n"
     ]
    }
   ],
   "source": [
    "import os\n",
    "import numpy as np\n",
    "import pandas as pd\n",
    "import polars as pl\n",
    "from typing import List\n",
    "from pathlib import Path\n",
    "from scipy.stats import pearsonr\n",
    "from sklearn.metrics import r2_score\n",
    "from sklearn.model_selection import train_test_split\n",
    "\n",
    "from sklearn.ensemble import RandomForestRegressor\n",
    "import lightgbm as lgb\n",
    "\n",
    "for dirname, _, filenames in os.walk(\"/kaggle/\"):\n",
    "    for filename in filenames:\n",
    "        print(os.path.join(dirname, filename))\n",
    "\n",
    "KAGGLE = True  # define paths accordingly\n",
    "SUBMISSION = True  # use smaller datasets during dev\n",
    "\n",
    "if KAGGLE:\n",
    "    crypto_folder = Path(\"/kaggle/input/drw-crypto-market-prediction\")\n",
    "else:\n",
    "    crypto_folder = Path(\"../raw_data/crypto\")"
   ]
  },
  {
   "cell_type": "markdown",
   "id": "f212ef07",
   "metadata": {
    "papermill": {
     "duration": 0.003017,
     "end_time": "2025-07-20T21:56:56.810405",
     "exception": false,
     "start_time": "2025-07-20T21:56:56.807388",
     "status": "completed"
    },
    "tags": []
   },
   "source": [
    "## Helper functions"
   ]
  },
  {
   "cell_type": "code",
   "execution_count": 2,
   "id": "f4ada223",
   "metadata": {
    "execution": {
     "iopub.execute_input": "2025-07-20T21:56:56.818313Z",
     "iopub.status.busy": "2025-07-20T21:56:56.817793Z",
     "iopub.status.idle": "2025-07-20T21:56:56.830418Z",
     "shell.execute_reply": "2025-07-20T21:56:56.829791Z"
    },
    "papermill": {
     "duration": 0.018099,
     "end_time": "2025-07-20T21:56:56.831611",
     "exception": false,
     "start_time": "2025-07-20T21:56:56.813512",
     "status": "completed"
    },
    "tags": []
   },
   "outputs": [],
   "source": [
    "def get_clean_crypto_data(train: bool = True) -> pl.LazyFrame:\n",
    "    \"\"\"\n",
    "    Load and clean crypto data, returning either train or test set.\n",
    "\n",
    "    Args:\n",
    "        train: If True, return training set. If False, return test set.\n",
    "\n",
    "    Returns:\n",
    "        Cleaned lazy frame with columns that have variance and no infinite values.\n",
    "    \"\"\"\n",
    "\n",
    "    filename = \"train.parquet\" if train else \"test.parquet\"\n",
    "\n",
    "    # load data\n",
    "    crypto_lazy = pl.scan_parquet(crypto_folder / filename)\n",
    "    n_cols = len(crypto_lazy.collect_schema().names())\n",
    "\n",
    "    if train and KAGGLE:\n",
    "        # rename timestamp column\n",
    "        crypto_lazy = crypto_lazy.with_columns(\n",
    "            pl.col(\"__index_level_0__\").alias(\"timestamp\")\n",
    "        ).drop([\"__index_level_0__\"])\n",
    "\n",
    "    # Remove columns with zero variance in the training set\n",
    "    train_lazy = pl.scan_parquet(crypto_folder / \"train.parquet\")\n",
    "    if KAGGLE:\n",
    "        train_lazy = train_lazy.with_columns(\n",
    "            pl.col(\"__index_level_0__\").alias(\"timestamp\")\n",
    "        ).drop([\"__index_level_0__\"])\n",
    "\n",
    "    # Get column names and calculate variance on training set (for consistency)\n",
    "    crypto_var = train_lazy.select(pl.exclude([\"timestamp\"]).var())\n",
    "\n",
    "    crypto_var_cols = (\n",
    "        crypto_var.select(pl.all() == 0.0)\n",
    "        .first()\n",
    "        .collect()\n",
    "        .to_pandas()\n",
    "        .T.rename(columns={0: \"is_variance_null\"})\n",
    "        .reset_index()\n",
    "        .rename(columns={\"index\": \"column_name\"})\n",
    "        .groupby(\"is_variance_null\")[\"column_name\"]\n",
    "        .unique()\n",
    "    )\n",
    "\n",
    "    crypto_cols_with_var = crypto_var_cols[False]\n",
    "\n",
    "    try:\n",
    "        cols_no_var = crypto_var_cols[True]\n",
    "        print(f\"Columns with no variance : {cols_no_var}\")\n",
    "    except KeyError:\n",
    "        print(\"All columns have variance in the train set\")\n",
    "\n",
    "    # remove columns that have no variance in the training set\n",
    "    train_lazy = train_lazy.select(\n",
    "        [\"timestamp\"] + [pl.col(c) for c in crypto_cols_with_var]\n",
    "    )\n",
    "\n",
    "    # Remove columns with infinite values (check on training set)\n",
    "    current_columns = train_lazy.collect_schema().names()\n",
    "    contains_infinite_cols = (\n",
    "        train_lazy.select(pl.exclude(\"timestamp\").abs().max().is_infinite())\n",
    "        .collect()\n",
    "        .to_pandas()\n",
    "        .T.rename(columns={0: \"contains_infinite\"})\n",
    "        .reset_index()\n",
    "        .rename(columns={\"index\": \"column_name\"})\n",
    "        .groupby(\"contains_infinite\")[\"column_name\"]\n",
    "        .unique()\n",
    "    )\n",
    "\n",
    "    try:\n",
    "        cols_with_inf_vals = contains_infinite_cols[True]\n",
    "        print(f\"Columns with infinite values : {cols_with_inf_vals}\")\n",
    "    except KeyError:\n",
    "        print(\"No columns with infinite values\")\n",
    "\n",
    "    if not train:\n",
    "        # add dummy timestamps\n",
    "        crypto_lazy = crypto_lazy.with_columns(\n",
    "            ID=range(1, crypto_lazy.select(pl.len()).collect().item() + 1)\n",
    "        )\n",
    "    # Filter clean columns based on what's available in the current dataset\n",
    "    clean_columns = [\n",
    "        c for c in current_columns if c in contains_infinite_cols[False]\n",
    "    ] + [\"timestamp\", \"ID\"]\n",
    "    available_columns = crypto_lazy.collect_schema().names()\n",
    "    final_columns = [c for c in clean_columns if c in available_columns]\n",
    "    print(f\"Eventually {len(final_columns)}, removed {n_cols - len(final_columns)}\")\n",
    "\n",
    "    return crypto_lazy.select(final_columns)\n",
    "\n",
    "\n",
    "def get_diff_features(df: pl.LazyFrame, stats_columns: List[str]):\n",
    "    return (\n",
    "        df.with_columns(pl.exclude(stats_columns).diff())\n",
    "        .with_row_index()\n",
    "        .fill_null(strategy=\"backward\")\n",
    "        .select(pl.exclude(\"index\"))\n",
    "    )\n",
    "\n",
    "def get_ma_features(df: pl.LazyFrame, cols: List[str]):\n",
    "    return (\n",
    "        df.with_columns(\n",
    "            pl.col(cols)\n",
    "            .rolling_mean(\n",
    "                window_size=23, \n",
    "                min_samples=1\n",
    "                )\n",
    "        )\n",
    "    )\n",
    "\n",
    "def get_rolling_var(df: pl.LazyFrame, cols: List[str]):\n",
    "    return (\n",
    "        df.with_columns(\n",
    "            pl.col(cols)\n",
    "            .rolling_var(\n",
    "                window_size=23,\n",
    "                min_samples=1\n",
    "            ).backward_fill()\n",
    "        )\n",
    "    )"
   ]
  },
  {
   "cell_type": "markdown",
   "id": "3b054ffb",
   "metadata": {
    "papermill": {
     "duration": 0.002845,
     "end_time": "2025-07-20T21:56:56.837726",
     "exception": false,
     "start_time": "2025-07-20T21:56:56.834881",
     "status": "completed"
    },
    "tags": []
   },
   "source": [
    "## Metadata"
   ]
  },
  {
   "cell_type": "code",
   "execution_count": 3,
   "id": "8b0a7189",
   "metadata": {
    "execution": {
     "iopub.execute_input": "2025-07-20T21:56:56.844836Z",
     "iopub.status.busy": "2025-07-20T21:56:56.844560Z",
     "iopub.status.idle": "2025-07-20T21:56:56.848938Z",
     "shell.execute_reply": "2025-07-20T21:56:56.848141Z"
    },
    "papermill": {
     "duration": 0.009418,
     "end_time": "2025-07-20T21:56:56.850137",
     "exception": false,
     "start_time": "2025-07-20T21:56:56.840719",
     "status": "completed"
    },
    "tags": []
   },
   "outputs": [],
   "source": [
    "stats_columns = [\n",
    "    \"timestamp\",\n",
    "    \"bid_qty\",\n",
    "    \"ask_qty\",\n",
    "    \"buy_qty\",\n",
    "    \"sell_qty\",\n",
    "    \"volume\",\n",
    "    \"label\",\n",
    "]\n",
    "stats_columns_test = [\n",
    "    \"ID\",\n",
    "    \"bid_qty\",\n",
    "    \"ask_qty\",\n",
    "    \"buy_qty\",\n",
    "    \"sell_qty\",\n",
    "    \"volume\",\n",
    "    \"label\",\n",
    "]\n",
    "X_exclude = [\"timestamp\", \"label\"]\n",
    "X_test_exclude = [\"ID\", \"label\"]"
   ]
  },
  {
   "cell_type": "markdown",
   "id": "a51533a9",
   "metadata": {
    "papermill": {
     "duration": 0.002879,
     "end_time": "2025-07-20T21:56:56.856152",
     "exception": false,
     "start_time": "2025-07-20T21:56:56.853273",
     "status": "completed"
    },
    "tags": []
   },
   "source": [
    "## Load data"
   ]
  },
  {
   "cell_type": "code",
   "execution_count": 4,
   "id": "803fe46a",
   "metadata": {
    "execution": {
     "iopub.execute_input": "2025-07-20T21:56:56.863083Z",
     "iopub.status.busy": "2025-07-20T21:56:56.862837Z",
     "iopub.status.idle": "2025-07-20T21:57:11.886111Z",
     "shell.execute_reply": "2025-07-20T21:57:11.885131Z"
    },
    "papermill": {
     "duration": 15.028344,
     "end_time": "2025-07-20T21:57:11.887478",
     "exception": false,
     "start_time": "2025-07-20T21:56:56.859134",
     "status": "completed"
    },
    "tags": []
   },
   "outputs": [
    {
     "name": "stdout",
     "output_type": "stream",
     "text": [
      "All columns have variance in the train set\n",
      "No columns with infinite values\n",
      "Eventually 787, removed 0\n"
     ]
    }
   ],
   "source": [
    "crypto_lazy_clean = get_clean_crypto_data(train=True)\n",
    "cols = crypto_lazy_clean.collect_schema().names()\n"
   ]
  },
  {
   "cell_type": "code",
   "execution_count": 5,
   "id": "5b1270c1",
   "metadata": {
    "execution": {
     "iopub.execute_input": "2025-07-20T21:57:11.896147Z",
     "iopub.status.busy": "2025-07-20T21:57:11.895466Z",
     "iopub.status.idle": "2025-07-20T21:57:11.936542Z",
     "shell.execute_reply": "2025-07-20T21:57:11.935647Z"
    },
    "papermill": {
     "duration": 0.046482,
     "end_time": "2025-07-20T21:57:11.937934",
     "exception": false,
     "start_time": "2025-07-20T21:57:11.891452",
     "status": "completed"
    },
    "tags": []
   },
   "outputs": [
    {
     "name": "stdout",
     "output_type": "stream",
     "text": [
      "1567\n",
      "2347\n"
     ]
    }
   ],
   "source": [
    "\n",
    "# join level with diff values\n",
    "# crypto_lazy_clean = crypto_lazy_clean.join(\n",
    "#     get_diff_features(crypto_lazy_clean, stats_columns),\n",
    "#     on=stats_columns,\n",
    "#     how=\"inner\",\n",
    "#     suffix=\"_diff\",\n",
    "# )\n",
    "\n",
    "crypto_lazy_clean = crypto_lazy_clean.join(\n",
    "    get_ma_features(crypto_lazy_clean, [c for c in cols if c not in stats_columns]),\n",
    "    on=stats_columns,\n",
    "    how=\"inner\",\n",
    "    suffix=\"_ma23\",\n",
    ")\n",
    "print(len(crypto_lazy_clean.collect_schema().names()))\n",
    "crypto_lazy_clean = crypto_lazy_clean.join(\n",
    "    get_rolling_var(\n",
    "        crypto_lazy_clean.select(cols), \n",
    "        [c for c in cols if c not in stats_columns]\n",
    "        ).fill_null(0.),\n",
    "    on=stats_columns,\n",
    "    how=\"inner\",\n",
    "    suffix=\"_var23\",\n",
    ")\n",
    "print(len(crypto_lazy_clean.collect_schema().names()))\n"
   ]
  },
  {
   "cell_type": "code",
   "execution_count": 6,
   "id": "784c0dd6",
   "metadata": {
    "execution": {
     "iopub.execute_input": "2025-07-20T21:57:11.945924Z",
     "iopub.status.busy": "2025-07-20T21:57:11.945675Z",
     "iopub.status.idle": "2025-07-20T21:57:36.007844Z",
     "shell.execute_reply": "2025-07-20T21:57:36.006994Z"
    },
    "papermill": {
     "duration": 24.068495,
     "end_time": "2025-07-20T21:57:36.009919",
     "exception": false,
     "start_time": "2025-07-20T21:57:11.941424",
     "status": "completed"
    },
    "tags": []
   },
   "outputs": [],
   "source": [
    "\n",
    "X = crypto_lazy_clean.select(pl.exclude(X_exclude)).collect().to_numpy()\n",
    "y = crypto_lazy_clean.select(pl.col(\"label\")).collect().to_numpy().T[0]\n",
    "\n",
    "if not SUBMISSION:\n",
    "    X_train, X_test, y_train, y_test = train_test_split(\n",
    "        X,\n",
    "        y,\n",
    "        test_size=0.2,\n",
    "        shuffle=False,  # TODO : question this, whether timestamps are independant draws\n",
    "        random_state=42,\n",
    "    )\n",
    "else:\n",
    "    X_train, y_train = X, y\n",
    "del X\n",
    "del y\n"
   ]
  },
  {
   "cell_type": "markdown",
   "id": "75604a72",
   "metadata": {
    "papermill": {
     "duration": 0.004537,
     "end_time": "2025-07-20T21:57:36.020763",
     "exception": false,
     "start_time": "2025-07-20T21:57:36.016226",
     "status": "completed"
    },
    "tags": []
   },
   "source": [
    "## Train model"
   ]
  },
  {
   "cell_type": "code",
   "execution_count": 7,
   "id": "aa759fbb",
   "metadata": {
    "execution": {
     "iopub.execute_input": "2025-07-20T21:57:36.032111Z",
     "iopub.status.busy": "2025-07-20T21:57:36.031297Z",
     "iopub.status.idle": "2025-07-20T22:12:44.569373Z",
     "shell.execute_reply": "2025-07-20T22:12:44.568411Z"
    },
    "papermill": {
     "duration": 908.549042,
     "end_time": "2025-07-20T22:12:44.574463",
     "exception": false,
     "start_time": "2025-07-20T21:57:36.025421",
     "status": "completed"
    },
    "tags": []
   },
   "outputs": [
    {
     "name": "stdout",
     "output_type": "stream",
     "text": [
      "R2 train lin: 0.20716782331356687\n",
      "Pearson train lin : PearsonRResult(statistic=0.5701559217552088, pvalue=0.0)\n",
      "[LightGBM] [Info] Auto-choosing col-wise multi-threading, the overhead of testing was 34.278270 seconds.\n",
      "You can set `force_col_wise=true` to remove the overhead.\n",
      "[LightGBM] [Info] Total Bins 597937\n",
      "[LightGBM] [Info] Number of data points in the train set: 525886, number of used features: 2345\n",
      "[LightGBM] [Info] Start training from score 0.000151\n",
      "R2 train : 0.6251731423473128\n",
      "Pearson train : PearsonRResult(statistic=0.8430992638988045, pvalue=0.0)\n"
     ]
    }
   ],
   "source": [
    "\n",
    "lr = 1.\n",
    "\n",
    "lin = RandomForestRegressor(\n",
    "    # fit_intercept=True,\n",
    "    n_estimators=80,\n",
    "    n_jobs=-1,\n",
    "    max_depth=10,\n",
    "    min_samples_split=100,\n",
    "    min_samples_leaf=50,\n",
    "    max_features=\"sqrt\",\n",
    "    max_samples=0.5,\n",
    "    random_state=41,\n",
    ")\n",
    "# n_samples = 80_000\n",
    "lin.fit(\n",
    "    X_train,\n",
    "    y_train,\n",
    "    # sample_weight=np.flip(1.0 / np.sqrt(np.arange(1, n_samples+1)))\n",
    ")\n",
    "\n",
    "y_train_lin = lin.predict(X_train)\n",
    "\n",
    "print(f\"R2 train lin: {r2_score(y_train, y_train_lin)}\")\n",
    "print(f\"Pearson train lin : {pearsonr(y_train, y_train_lin)}\")\n",
    "\n",
    "y_train_res = y_train - lr * y_train_lin\n",
    "\n",
    "\n",
    "lgb_model = lgb.LGBMRegressor(\n",
    "    random_state=42,\n",
    "    # weight=np.flip(1.0 / np.sqrt(np.arange(1, len(X_train)+1))),\n",
    "    # n_estimators=80,\n",
    "    # max_depth=10,\n",
    "    n_jobs=-1,\n",
    ")\n",
    "lgb_model.fit(X_train, y_train_res)\n",
    "\n",
    "y_train_hat = lgb_model.predict(X_train)\n",
    "\n",
    "print(f\"R2 train : {r2_score(y_train, y_train_hat + lr * y_train_lin)}\")\n",
    "print(f\"Pearson train : {pearsonr(y_train, y_train_hat + lr * y_train_lin)}\")\n",
    "\n",
    "if not SUBMISSION:\n",
    "    y_test_lin = lin.predict(X_test)\n",
    "\n",
    "    print(f\"R2 test lin : {r2_score(y_test, y_test_lin)}\")\n",
    "    print(f\"Pearson test lin : {pearsonr(y_test, y_test_lin)}\")\n",
    "\n",
    "    y_test_hat = lgb_model.predict(X_test)\n",
    "\n",
    "    print(f\"R2 test : {r2_score(y_test, y_test_hat + lr * y_test_lin)}\")\n",
    "    print(f\"Pearson test : {pearsonr(y_test, y_test_hat + lr * y_test_lin)}\")\n",
    "\n",
    "del y_train_lin\n",
    "del y_train_res\n",
    "del y_train_hat\n",
    "del X_train\n",
    "\n",
    "    "
   ]
  },
  {
   "cell_type": "markdown",
   "id": "6188f54c",
   "metadata": {
    "papermill": {
     "duration": 0.003521,
     "end_time": "2025-07-20T22:12:44.582266",
     "exception": false,
     "start_time": "2025-07-20T22:12:44.578745",
     "status": "completed"
    },
    "tags": []
   },
   "source": [
    "## Load test data"
   ]
  },
  {
   "cell_type": "code",
   "execution_count": 8,
   "id": "3edcd206",
   "metadata": {
    "execution": {
     "iopub.execute_input": "2025-07-20T22:12:44.591219Z",
     "iopub.status.busy": "2025-07-20T22:12:44.590434Z",
     "iopub.status.idle": "2025-07-20T22:12:53.358972Z",
     "shell.execute_reply": "2025-07-20T22:12:53.358119Z"
    },
    "papermill": {
     "duration": 8.77453,
     "end_time": "2025-07-20T22:12:53.360282",
     "exception": false,
     "start_time": "2025-07-20T22:12:44.585752",
     "status": "completed"
    },
    "tags": []
   },
   "outputs": [
    {
     "name": "stdout",
     "output_type": "stream",
     "text": [
      "All columns have variance in the train set\n",
      "No columns with infinite values\n",
      "Eventually 787, removed -1\n"
     ]
    }
   ],
   "source": [
    "crypto_lazy_test = get_clean_crypto_data(train=False)\n",
    "# create unique row identifier\n",
    "# n = crypto_lazy_test.select(pl.len()).collect().item()\n",
    "# crypto_lazy_test = crypto_lazy_test.with_columns(ID=range(1, n + 1))\n",
    "\n",
    "# print(crypto_lazy_test.select(pl.len()).collect().item())\n",
    "\n",
    "# crypto_lazy_test = crypto_lazy_test.join(\n",
    "#     get_diff_features(crypto_lazy_test, stats_columns_test),\n",
    "#     on=stats_columns_test,\n",
    "#     how=\"inner\",\n",
    "#     suffix=\"_diff\",\n",
    "# )\n",
    "cols_test = crypto_lazy_test.collect_schema().names()\n",
    "crypto_lazy_test = crypto_lazy_test.join(\n",
    "    get_ma_features(crypto_lazy_test, [c for c in cols_test if c not in stats_columns_test]),\n",
    "    on=stats_columns_test,\n",
    "    how=\"inner\",\n",
    "    suffix=\"_ma23\",\n",
    ")\n",
    "crypto_lazy_test = crypto_lazy_test.join(\n",
    "    get_rolling_var(\n",
    "        crypto_lazy_test.select(cols_test), \n",
    "        [c for c in cols_test if c not in stats_columns_test]\n",
    "        ),\n",
    "    on=stats_columns_test,\n",
    "    how=\"inner\",\n",
    "    suffix=\"_var23\",\n",
    ")\n",
    "\n",
    "# crypto_lazy_test = get_diff_features(crypto_lazy_test, stats_columns_test)\n",
    "# assert n == crypto_lazy_test.select(pl.len()).collect().item()"
   ]
  },
  {
   "cell_type": "markdown",
   "id": "59ba4102",
   "metadata": {
    "papermill": {
     "duration": 0.003418,
     "end_time": "2025-07-20T22:12:53.367441",
     "exception": false,
     "start_time": "2025-07-20T22:12:53.364023",
     "status": "completed"
    },
    "tags": []
   },
   "source": [
    "## Predict target \\& submit"
   ]
  },
  {
   "cell_type": "code",
   "execution_count": 9,
   "id": "199928ed",
   "metadata": {
    "execution": {
     "iopub.execute_input": "2025-07-20T22:12:53.376007Z",
     "iopub.status.busy": "2025-07-20T22:12:53.375333Z",
     "iopub.status.idle": "2025-07-20T22:14:21.660300Z",
     "shell.execute_reply": "2025-07-20T22:14:21.658140Z"
    },
    "papermill": {
     "duration": 88.291315,
     "end_time": "2025-07-20T22:14:21.662262",
     "exception": false,
     "start_time": "2025-07-20T22:12:53.370947",
     "status": "completed"
    },
    "tags": []
   },
   "outputs": [],
   "source": [
    "X_test = crypto_lazy_test.select(pl.exclude(X_test_exclude)).collect().to_numpy()\n",
    "y_lin_test = lin.predict(X_test)\n",
    "y_hat_lgb_test = lgb_model.predict(X_test)\n",
    "\n",
    "del X_test"
   ]
  },
  {
   "cell_type": "code",
   "execution_count": 10,
   "id": "e667de05",
   "metadata": {
    "execution": {
     "iopub.execute_input": "2025-07-20T22:14:21.674631Z",
     "iopub.status.busy": "2025-07-20T22:14:21.673928Z",
     "iopub.status.idle": "2025-07-20T22:14:22.256365Z",
     "shell.execute_reply": "2025-07-20T22:14:22.255585Z"
    },
    "papermill": {
     "duration": 0.59,
     "end_time": "2025-07-20T22:14:22.257942",
     "exception": false,
     "start_time": "2025-07-20T22:14:21.667942",
     "status": "completed"
    },
    "tags": []
   },
   "outputs": [],
   "source": [
    "crypto_lazy_test = crypto_lazy_test.with_columns(\n",
    "    prediction=y_hat_lgb_test + lr * y_lin_test\n",
    ")\n",
    "# crypto_lazy_test.head(5).collect()\n",
    "crypto_lazy_test.select([pl.col(\"ID\"), pl.col(\"prediction\")]).collect().write_csv(\n",
    "    Path(\"submission.csv\")\n",
    ")"
   ]
  },
  {
   "cell_type": "code",
   "execution_count": null,
   "id": "45c78a6a",
   "metadata": {
    "papermill": {
     "duration": 0.003391,
     "end_time": "2025-07-20T22:14:22.265206",
     "exception": false,
     "start_time": "2025-07-20T22:14:22.261815",
     "status": "completed"
    },
    "tags": []
   },
   "outputs": [],
   "source": []
  }
 ],
 "metadata": {
  "kaggle": {
   "accelerator": "none",
   "dataSources": [
    {
     "databundleVersionId": 12993472,
     "sourceId": 96164,
     "sourceType": "competition"
    }
   ],
   "dockerImageVersionId": 31089,
   "isGpuEnabled": false,
   "isInternetEnabled": true,
   "language": "python",
   "sourceType": "notebook"
  },
  "kernelspec": {
   "display_name": "Python 3",
   "language": "python",
   "name": "python3"
  },
  "language_info": {
   "codemirror_mode": {
    "name": "ipython",
    "version": 3
   },
   "file_extension": ".py",
   "mimetype": "text/x-python",
   "name": "python",
   "nbconvert_exporter": "python",
   "pygments_lexer": "ipython3",
   "version": "3.11.13"
  },
  "papermill": {
   "default_parameters": {},
   "duration": 1061.218311,
   "end_time": "2025-07-20T22:14:24.784867",
   "environment_variables": {},
   "exception": null,
   "input_path": "__notebook__.ipynb",
   "output_path": "__notebook__.ipynb",
   "parameters": {},
   "start_time": "2025-07-20T21:56:43.566556",
   "version": "2.6.0"
  }
 },
 "nbformat": 4,
 "nbformat_minor": 5
}
