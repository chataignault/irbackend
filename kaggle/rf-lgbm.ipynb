{
 "cells": [
  {
   "cell_type": "code",
   "execution_count": 1,
   "id": "9749b1b1",
   "metadata": {
    "_cell_guid": "b1076dfc-b9ad-4769-8c92-a6c4dae69d19",
    "_uuid": "8f2839f25d086af736a60e9eeb907d3b93b6e0e5",
    "execution": {
     "iopub.execute_input": "2025-07-19T22:56:25.376578Z",
     "iopub.status.busy": "2025-07-19T22:56:25.376248Z",
     "iopub.status.idle": "2025-07-19T22:56:35.315759Z",
     "shell.execute_reply": "2025-07-19T22:56:35.314581Z"
    },
    "papermill": {
     "duration": 9.94604,
     "end_time": "2025-07-19T22:56:35.317315",
     "exception": false,
     "start_time": "2025-07-19T22:56:25.371275",
     "status": "completed"
    },
    "tags": []
   },
   "outputs": [
    {
     "name": "stdout",
     "output_type": "stream",
     "text": [
      "/kaggle/src/script.ipynb\n",
      "/kaggle/lib/kaggle/gcp.py\n",
      "/kaggle/input/drw-crypto-market-prediction/sample_submission.csv\n",
      "/kaggle/input/drw-crypto-market-prediction/train.parquet\n",
      "/kaggle/input/drw-crypto-market-prediction/test.parquet\n",
      "/kaggle/huggingface/hf_scan.py\n",
      "/kaggle/nbdev/export.sh\n",
      "/kaggle/nbdev/settings.ini\n",
      "/kaggle/working/__notebook__.ipynb\n"
     ]
    }
   ],
   "source": [
    "import numpy as np\n",
    "import pandas as pd\n",
    "from typing import List\n",
    "from pathlib import Path\n",
    "import polars as pl\n",
    "from scipy.stats import pearsonr\n",
    "from sklearn.metrics import r2_score\n",
    "from sklearn.model_selection import train_test_split\n",
    "import lightgbm as lgb\n",
    "import os\n",
    "\n",
    "for dirname, _, filenames in os.walk(\"/kaggle/\"):\n",
    "    for filename in filenames:\n",
    "        print(os.path.join(dirname, filename))\n",
    "\n",
    "KAGGLE = True  # define paths accordingly\n",
    "SUBMISSION = False  # use smaller datasets during dev\n",
    "\n",
    "if KAGGLE:\n",
    "    crypto_folder = Path(\"/kaggle/input/drw-crypto-market-prediction\")\n",
    "else:\n",
    "    crypto_folder = Path(\"../raw_data/crypto\")"
   ]
  },
  {
   "cell_type": "markdown",
   "id": "dbcdc484",
   "metadata": {
    "papermill": {
     "duration": 0.002999,
     "end_time": "2025-07-19T22:56:35.324016",
     "exception": false,
     "start_time": "2025-07-19T22:56:35.321017",
     "status": "completed"
    },
    "tags": []
   },
   "source": [
    "- train / test split \n",
    "- test scores\n",
    "- retry linear regression\n",
    "- try adding linear regression to lgb model"
   ]
  },
  {
   "cell_type": "code",
   "execution_count": 2,
   "id": "fcad5e59",
   "metadata": {
    "execution": {
     "iopub.execute_input": "2025-07-19T22:56:35.332924Z",
     "iopub.status.busy": "2025-07-19T22:56:35.331638Z",
     "iopub.status.idle": "2025-07-19T22:56:35.344632Z",
     "shell.execute_reply": "2025-07-19T22:56:35.343581Z"
    },
    "papermill": {
     "duration": 0.019007,
     "end_time": "2025-07-19T22:56:35.346260",
     "exception": false,
     "start_time": "2025-07-19T22:56:35.327253",
     "status": "completed"
    },
    "tags": []
   },
   "outputs": [],
   "source": [
    "def get_clean_crypto_data(train: bool = True) -> pl.LazyFrame:\n",
    "    \"\"\"\n",
    "    Load and clean crypto data, returning either train or test set.\n",
    "\n",
    "    Args:\n",
    "        train: If True, return training set. If False, return test set.\n",
    "\n",
    "    Returns:\n",
    "        Cleaned lazy frame with columns that have variance and no infinite values.\n",
    "    \"\"\"\n",
    "\n",
    "    filename = \"train.parquet\" if train else \"test.parquet\"\n",
    "\n",
    "    # load data\n",
    "    crypto_lazy = pl.scan_parquet(crypto_folder / filename)\n",
    "    n_cols = len(crypto_lazy.collect_schema().names())\n",
    "\n",
    "    if train and KAGGLE:\n",
    "        # rename timestamp column\n",
    "        crypto_lazy = crypto_lazy.with_columns(\n",
    "            pl.col(\"__index_level_0__\").alias(\"timestamp\")\n",
    "        ).drop([\"__index_level_0__\"])\n",
    "\n",
    "    # Remove columns with zero variance in the training set\n",
    "    train_lazy = pl.scan_parquet(crypto_folder / \"train.parquet\")\n",
    "    if KAGGLE:\n",
    "        train_lazy = train_lazy.with_columns(\n",
    "            pl.col(\"__index_level_0__\").alias(\"timestamp\")\n",
    "        ).drop([\"__index_level_0__\"])\n",
    "\n",
    "    # Get column names and calculate variance on training set (for consistency)\n",
    "    crypto_var = train_lazy.select(pl.exclude([\"timestamp\"]).var())\n",
    "\n",
    "    crypto_var_cols = (\n",
    "        crypto_var.select(pl.all() == 0.0)\n",
    "        .first()\n",
    "        .collect()\n",
    "        .to_pandas()\n",
    "        .T.rename(columns={0: \"is_variance_null\"})\n",
    "        .reset_index()\n",
    "        .rename(columns={\"index\": \"column_name\"})\n",
    "        .groupby(\"is_variance_null\")[\"column_name\"]\n",
    "        .unique()\n",
    "    )\n",
    "\n",
    "    crypto_cols_with_var = crypto_var_cols[False]\n",
    "\n",
    "    try:\n",
    "        cols_no_var = crypto_var_cols[True]\n",
    "        print(f\"Columns with no variance : {cols_no_var}\")\n",
    "    except KeyError:\n",
    "        print(\"All columns have variance in the train set\")\n",
    "\n",
    "    # remove columns that have no variance in the training set\n",
    "    train_lazy = train_lazy.select(\n",
    "        [\"timestamp\"] + [pl.col(c) for c in crypto_cols_with_var]\n",
    "    )\n",
    "\n",
    "    # Remove columns with infinite values (check on training set)\n",
    "    current_columns = train_lazy.collect_schema().names()\n",
    "    contains_infinite_cols = (\n",
    "        train_lazy.select(pl.exclude(\"timestamp\").abs().max().is_infinite())\n",
    "        .collect()\n",
    "        .to_pandas()\n",
    "        .T.rename(columns={0: \"contains_infinite\"})\n",
    "        .reset_index()\n",
    "        .rename(columns={\"index\": \"column_name\"})\n",
    "        .groupby(\"contains_infinite\")[\"column_name\"]\n",
    "        .unique()\n",
    "    )\n",
    "\n",
    "    try:\n",
    "        cols_with_inf_vals = contains_infinite_cols[True]\n",
    "        print(f\"Columns with infinite values : {cols_with_inf_vals}\")\n",
    "    except KeyError:\n",
    "        print(\"No columns with infinite values\")\n",
    "\n",
    "    if not train:\n",
    "        # add dummy timestamps\n",
    "        crypto_lazy = crypto_lazy.with_columns(\n",
    "            ID=range(1, crypto_lazy.select(pl.len()).collect().item() + 1)\n",
    "        )\n",
    "    # Filter clean columns based on what's available in the current dataset\n",
    "    clean_columns = [\n",
    "        c for c in current_columns if c in contains_infinite_cols[False]\n",
    "    ] + [\"timestamp\", \"ID\"]\n",
    "    available_columns = crypto_lazy.collect_schema().names()\n",
    "    final_columns = [c for c in clean_columns if c in available_columns]\n",
    "    print(f\"Eventually {len(final_columns)}, removed {n_cols - len(final_columns)}\")\n",
    "\n",
    "    return crypto_lazy.select(final_columns)"
   ]
  },
  {
   "cell_type": "code",
   "execution_count": 3,
   "id": "f729a223",
   "metadata": {
    "execution": {
     "iopub.execute_input": "2025-07-19T22:56:35.354848Z",
     "iopub.status.busy": "2025-07-19T22:56:35.354027Z",
     "iopub.status.idle": "2025-07-19T22:56:48.768522Z",
     "shell.execute_reply": "2025-07-19T22:56:48.767190Z"
    },
    "papermill": {
     "duration": 13.420678,
     "end_time": "2025-07-19T22:56:48.770340",
     "exception": false,
     "start_time": "2025-07-19T22:56:35.349662",
     "status": "completed"
    },
    "tags": []
   },
   "outputs": [
    {
     "name": "stdout",
     "output_type": "stream",
     "text": [
      "All columns have variance in the train set\n",
      "No columns with infinite values\n",
      "Eventually 787, removed 0\n"
     ]
    }
   ],
   "source": [
    "stats_columns = [\n",
    "    \"timestamp\",\n",
    "    \"bid_qty\",\n",
    "    \"ask_qty\",\n",
    "    \"buy_qty\",\n",
    "    \"sell_qty\",\n",
    "    \"volume\",\n",
    "    \"label\",\n",
    "]\n",
    "stats_columns_test = [\n",
    "    \"ID\",\n",
    "    \"bid_qty\",\n",
    "    \"ask_qty\",\n",
    "    \"buy_qty\",\n",
    "    \"sell_qty\",\n",
    "    \"volume\",\n",
    "    \"label\",\n",
    "]\n",
    "X_exclude = [\"timestamp\", \"label\"]\n",
    "X_test_exclude = [\"ID\", \"label\"]\n",
    "\n",
    "crypto_lazy_clean = get_clean_crypto_data(train=True)"
   ]
  },
  {
   "cell_type": "code",
   "execution_count": 4,
   "id": "2ec0decf",
   "metadata": {
    "execution": {
     "iopub.execute_input": "2025-07-19T22:56:48.779366Z",
     "iopub.status.busy": "2025-07-19T22:56:48.779030Z",
     "iopub.status.idle": "2025-07-19T22:56:48.784477Z",
     "shell.execute_reply": "2025-07-19T22:56:48.783671Z"
    },
    "papermill": {
     "duration": 0.01203,
     "end_time": "2025-07-19T22:56:48.786091",
     "exception": false,
     "start_time": "2025-07-19T22:56:48.774061",
     "status": "completed"
    },
    "tags": []
   },
   "outputs": [],
   "source": [
    "def get_diff_features(df: pl.LazyFrame, stats_columns: List[str]):\n",
    "    return (\n",
    "        df.with_columns(pl.exclude(stats_columns).diff())\n",
    "        .with_row_index()\n",
    "        .fill_null(strategy=\"backward\")\n",
    "        .select(pl.exclude(\"index\"))\n",
    "    )\n",
    "\n",
    "\n",
    "# join level with diff values\n",
    "# crypto_lazy_clean = crypto_lazy_clean.join(\n",
    "#     get_diff_features(crypto_lazy_clean, stats_columns),\n",
    "#     on=stats_columns,\n",
    "#     how=\"inner\",\n",
    "#     suffix=\"_diff\",\n",
    "# )"
   ]
  },
  {
   "cell_type": "code",
   "execution_count": 5,
   "id": "72667e50",
   "metadata": {
    "execution": {
     "iopub.execute_input": "2025-07-19T22:56:48.794170Z",
     "iopub.status.busy": "2025-07-19T22:56:48.793714Z",
     "iopub.status.idle": "2025-07-19T22:56:52.523556Z",
     "shell.execute_reply": "2025-07-19T22:56:52.522816Z"
    },
    "papermill": {
     "duration": 3.735822,
     "end_time": "2025-07-19T22:56:52.525364",
     "exception": false,
     "start_time": "2025-07-19T22:56:48.789542",
     "status": "completed"
    },
    "tags": []
   },
   "outputs": [],
   "source": [
    "X = crypto_lazy_clean.select(pl.exclude(X_exclude)).collect().to_numpy()\n",
    "y = crypto_lazy_clean.select(pl.col(\"label\")).collect().to_numpy().T[0]"
   ]
  },
  {
   "cell_type": "code",
   "execution_count": 6,
   "id": "eeb57852",
   "metadata": {
    "execution": {
     "iopub.execute_input": "2025-07-19T22:56:52.533223Z",
     "iopub.status.busy": "2025-07-19T22:56:52.532914Z",
     "iopub.status.idle": "2025-07-19T22:56:52.536929Z",
     "shell.execute_reply": "2025-07-19T22:56:52.536041Z"
    },
    "papermill": {
     "duration": 0.009579,
     "end_time": "2025-07-19T22:56:52.538336",
     "exception": false,
     "start_time": "2025-07-19T22:56:52.528757",
     "status": "completed"
    },
    "tags": []
   },
   "outputs": [],
   "source": [
    "# test with the linear regression\n",
    "\n",
    "# crypto_lazy_clean.select(pl.exclude(stats_columns).mean()).collect()\n",
    "\n",
    "# from sklearn.linear_model import Lasso\n"
   ]
  },
  {
   "cell_type": "code",
   "execution_count": 7,
   "id": "3121e71c",
   "metadata": {
    "execution": {
     "iopub.execute_input": "2025-07-19T22:56:52.546174Z",
     "iopub.status.busy": "2025-07-19T22:56:52.545877Z",
     "iopub.status.idle": "2025-07-19T22:56:53.098278Z",
     "shell.execute_reply": "2025-07-19T22:56:53.097483Z"
    },
    "papermill": {
     "duration": 0.557995,
     "end_time": "2025-07-19T22:56:53.099864",
     "exception": false,
     "start_time": "2025-07-19T22:56:52.541869",
     "status": "completed"
    },
    "tags": []
   },
   "outputs": [],
   "source": [
    "from sklearn.ensemble import RandomForestRegressor"
   ]
  },
  {
   "cell_type": "code",
   "execution_count": 8,
   "id": "17ce1952",
   "metadata": {
    "execution": {
     "iopub.execute_input": "2025-07-19T22:56:53.108364Z",
     "iopub.status.busy": "2025-07-19T22:56:53.108083Z",
     "iopub.status.idle": "2025-07-19T23:03:46.180413Z",
     "shell.execute_reply": "2025-07-19T23:03:46.179120Z"
    },
    "papermill": {
     "duration": 413.078955,
     "end_time": "2025-07-19T23:03:46.182354",
     "exception": false,
     "start_time": "2025-07-19T22:56:53.103399",
     "status": "completed"
    },
    "tags": []
   },
   "outputs": [
    {
     "name": "stdout",
     "output_type": "stream",
     "text": [
      "R2 train lin: 0.19989628780087498\n",
      "Pearson train lin : PearsonRResult(statistic=0.5685028870623896, pvalue=0.0)\n",
      "[LightGBM] [Info] Auto-choosing col-wise multi-threading, the overhead of testing was 7.157776 seconds.\n",
      "You can set `force_col_wise=true` to remove the overhead.\n",
      "[LightGBM] [Info] Total Bins 200155\n",
      "[LightGBM] [Info] Number of data points in the train set: 420708, number of used features: 785\n",
      "[LightGBM] [Info] Start training from score 0.019267\n",
      "R2 train : 0.5927372516597694\n",
      "Pearson train : PearsonRResult(statistic=0.8245744740773004, pvalue=0.0)\n",
      "R2 test lin : 0.19319237832814762\n",
      "Pearson test lin : PearsonRResult(statistic=0.565625419890334, pvalue=0.0)\n",
      "R2 test : 0.5794029519679587\n",
      "Pearson test : PearsonRResult(statistic=0.8158649812269481, pvalue=0.0)\n"
     ]
    }
   ],
   "source": [
    "if not SUBMISSION:\n",
    "    X_train, X_test, y_train, y_test = train_test_split(\n",
    "        X,\n",
    "        y,\n",
    "        test_size=0.2,\n",
    "        shuffle=True,  # TODO : question this, whether timestamps are independant draws\n",
    "        random_state=42,\n",
    "    )\n",
    "else:\n",
    "    X_train, y_train = X, y\n",
    "del X\n",
    "del y\n",
    "\n",
    "lr = 0.5\n",
    "\n",
    "lin = RandomForestRegressor(\n",
    "    # fit_intercept=True,\n",
    "    n_estimators=80,\n",
    "    n_jobs=-1,\n",
    "    max_depth=10,\n",
    "    min_samples_split=100,\n",
    "    min_samples_leaf=50,\n",
    "    max_features=\"sqrt\",\n",
    "    max_samples=0.5,\n",
    "    random_state=41,\n",
    ")\n",
    "# n_samples = 80_000\n",
    "lin.fit(\n",
    "    X_train,\n",
    "    y_train,\n",
    "    # sample_weight=np.flip(1.0 / np.sqrt(np.arange(1, n_samples+1)))\n",
    ")\n",
    "\n",
    "y_train_lin = lin.predict(X_train)\n",
    "\n",
    "print(f\"R2 train lin: {r2_score(y_train, y_train_lin)}\")\n",
    "print(f\"Pearson train lin : {pearsonr(y_train, y_train_lin)}\")\n",
    "\n",
    "y_train_res = y_train - lr * y_train_lin\n",
    "\n",
    "\n",
    "lgb_model = lgb.LGBMRegressor(\n",
    "    random_state=42,\n",
    "    # weight=np.flip(1.0 / np.sqrt(np.arange(1, len(X_train)+1))),\n",
    "    # n_estimators=80,\n",
    "    # max_depth=10,\n",
    "    n_jobs=-1,\n",
    ")\n",
    "lgb_model.fit(X_train, y_train_res)\n",
    "\n",
    "y_train_hat = lgb_model.predict(X_train)\n",
    "\n",
    "print(f\"R2 train : {r2_score(y_train, y_train_hat + lr * y_train_lin)}\")\n",
    "print(f\"Pearson train : {pearsonr(y_train, y_train_hat + lr * y_train_lin)}\")\n",
    "\n",
    "if not SUBMISSION:\n",
    "    y_test_lin = lin.predict(X_test)\n",
    "\n",
    "    print(f\"R2 test lin : {r2_score(y_test, y_test_lin)}\")\n",
    "    print(f\"Pearson test lin : {pearsonr(y_test, y_test_lin)}\")\n",
    "\n",
    "    y_test_hat = lgb_model.predict(X_test)\n",
    "\n",
    "    print(f\"R2 test : {r2_score(y_test, y_test_hat + lr * y_test_lin)}\")\n",
    "    print(f\"Pearson test : {pearsonr(y_test, y_test_hat + lr * y_test_lin)}\")"
   ]
  },
  {
   "cell_type": "code",
   "execution_count": 9,
   "id": "30c6ce41",
   "metadata": {
    "execution": {
     "iopub.execute_input": "2025-07-19T23:03:46.192797Z",
     "iopub.status.busy": "2025-07-19T23:03:46.191865Z",
     "iopub.status.idle": "2025-07-19T23:04:04.616883Z",
     "shell.execute_reply": "2025-07-19T23:04:04.615794Z"
    },
    "papermill": {
     "duration": 18.432063,
     "end_time": "2025-07-19T23:04:04.618651",
     "exception": false,
     "start_time": "2025-07-19T23:03:46.186588",
     "status": "completed"
    },
    "tags": []
   },
   "outputs": [
    {
     "name": "stdout",
     "output_type": "stream",
     "text": [
      "All columns have variance in the train set\n",
      "No columns with infinite values\n",
      "Eventually 787, removed -1\n",
      "538150\n"
     ]
    }
   ],
   "source": [
    "crypto_lazy_test = get_clean_crypto_data(train=False)\n",
    "\n",
    "# create unique row identifier\n",
    "n = crypto_lazy_test.select(pl.len()).collect().item()\n",
    "crypto_lazy_test = crypto_lazy_test.with_columns(ID=range(1, n + 1))\n",
    "\n",
    "print(crypto_lazy_test.select(pl.len()).collect().item())\n",
    "\n",
    "# crypto_lazy_test = crypto_lazy_test.join(\n",
    "#     get_diff_features(crypto_lazy_test, stats_columns_test),\n",
    "#     on=stats_columns_test,\n",
    "#     how=\"inner\",\n",
    "#     suffix=\"_diff\",\n",
    "# )\n",
    "\n",
    "# crypto_lazy_test = get_diff_features(crypto_lazy_test, stats_columns_test)\n",
    "assert n == crypto_lazy_test.select(pl.len()).collect().item()"
   ]
  },
  {
   "cell_type": "code",
   "execution_count": 10,
   "id": "59b36607",
   "metadata": {
    "execution": {
     "iopub.execute_input": "2025-07-19T23:04:04.628276Z",
     "iopub.status.busy": "2025-07-19T23:04:04.627981Z",
     "iopub.status.idle": "2025-07-19T23:04:08.048851Z",
     "shell.execute_reply": "2025-07-19T23:04:08.048089Z"
    },
    "papermill": {
     "duration": 3.427506,
     "end_time": "2025-07-19T23:04:08.050417",
     "exception": false,
     "start_time": "2025-07-19T23:04:04.622911",
     "status": "completed"
    },
    "tags": []
   },
   "outputs": [
    {
     "data": {
      "text/plain": [
       "(538150, 785)"
      ]
     },
     "execution_count": 10,
     "metadata": {},
     "output_type": "execute_result"
    }
   ],
   "source": [
    "X_test = crypto_lazy_test.select(pl.exclude(X_test_exclude)).collect().to_numpy()\n",
    "X_test.shape"
   ]
  },
  {
   "cell_type": "code",
   "execution_count": 11,
   "id": "7fcd6af8",
   "metadata": {
    "execution": {
     "iopub.execute_input": "2025-07-19T23:04:08.059758Z",
     "iopub.status.busy": "2025-07-19T23:04:08.059451Z",
     "iopub.status.idle": "2025-07-19T23:04:15.763861Z",
     "shell.execute_reply": "2025-07-19T23:04:15.762578Z"
    },
    "papermill": {
     "duration": 7.711398,
     "end_time": "2025-07-19T23:04:15.765988",
     "exception": false,
     "start_time": "2025-07-19T23:04:08.054590",
     "status": "completed"
    },
    "tags": []
   },
   "outputs": [],
   "source": [
    "y_lin_test = lin.predict(X_test)\n",
    "y_hat_lgb_test = lgb_model.predict(X_test)\n",
    "\n",
    "del X_test"
   ]
  },
  {
   "cell_type": "code",
   "execution_count": 12,
   "id": "793d9c7c",
   "metadata": {
    "execution": {
     "iopub.execute_input": "2025-07-19T23:04:15.776431Z",
     "iopub.status.busy": "2025-07-19T23:04:15.775067Z",
     "iopub.status.idle": "2025-07-19T23:04:17.370439Z",
     "shell.execute_reply": "2025-07-19T23:04:17.369481Z"
    },
    "papermill": {
     "duration": 1.602038,
     "end_time": "2025-07-19T23:04:17.372160",
     "exception": false,
     "start_time": "2025-07-19T23:04:15.770122",
     "status": "completed"
    },
    "tags": []
   },
   "outputs": [
    {
     "data": {
      "text/html": [
       "<div><style>\n",
       ".dataframe > thead > tr,\n",
       ".dataframe > tbody > tr {\n",
       "  text-align: right;\n",
       "  white-space: pre-wrap;\n",
       "}\n",
       "</style>\n",
       "<small>shape: (5, 788)</small><table border=\"1\" class=\"dataframe\"><thead><tr><th>bid_qty</th><th>ask_qty</th><th>buy_qty</th><th>sell_qty</th><th>volume</th><th>X1</th><th>X2</th><th>X3</th><th>X4</th><th>X5</th><th>X6</th><th>X7</th><th>X8</th><th>X9</th><th>X10</th><th>X11</th><th>X12</th><th>X13</th><th>X14</th><th>X15</th><th>X16</th><th>X17</th><th>X18</th><th>X19</th><th>X20</th><th>X21</th><th>X22</th><th>X23</th><th>X24</th><th>X25</th><th>X26</th><th>X27</th><th>X28</th><th>X29</th><th>X30</th><th>X31</th><th>X32</th><th>&hellip;</th><th>X747</th><th>X748</th><th>X749</th><th>X750</th><th>X751</th><th>X752</th><th>X753</th><th>X754</th><th>X755</th><th>X756</th><th>X757</th><th>X758</th><th>X759</th><th>X760</th><th>X761</th><th>X762</th><th>X763</th><th>X764</th><th>X765</th><th>X766</th><th>X767</th><th>X768</th><th>X769</th><th>X770</th><th>X771</th><th>X772</th><th>X773</th><th>X774</th><th>X775</th><th>X776</th><th>X777</th><th>X778</th><th>X779</th><th>X780</th><th>label</th><th>ID</th><th>prediction</th></tr><tr><td>f64</td><td>f64</td><td>f64</td><td>f64</td><td>f64</td><td>f64</td><td>f64</td><td>f64</td><td>f64</td><td>f64</td><td>f64</td><td>f64</td><td>f64</td><td>f64</td><td>f64</td><td>f64</td><td>f64</td><td>f64</td><td>f64</td><td>f64</td><td>f64</td><td>f64</td><td>f64</td><td>f64</td><td>f64</td><td>f64</td><td>f64</td><td>f64</td><td>f64</td><td>f64</td><td>f64</td><td>f64</td><td>f64</td><td>f64</td><td>f64</td><td>f64</td><td>f64</td><td>&hellip;</td><td>f64</td><td>f64</td><td>f64</td><td>f64</td><td>f64</td><td>f64</td><td>f64</td><td>f64</td><td>f64</td><td>f64</td><td>f64</td><td>f64</td><td>f64</td><td>f64</td><td>f64</td><td>f64</td><td>f64</td><td>f64</td><td>f64</td><td>f64</td><td>f64</td><td>f64</td><td>f64</td><td>f64</td><td>f64</td><td>f64</td><td>f64</td><td>f64</td><td>f64</td><td>f64</td><td>f64</td><td>f64</td><td>f64</td><td>f64</td><td>i64</td><td>i64</td><td>f64</td></tr></thead><tbody><tr><td>0.317</td><td>8.102</td><td>13.164</td><td>10.272</td><td>23.436</td><td>-0.341229</td><td>0.041851</td><td>-0.020094</td><td>-0.206221</td><td>-0.297124</td><td>-0.222267</td><td>-0.197837</td><td>-0.203911</td><td>-0.655944</td><td>0.007174</td><td>-0.329925</td><td>-0.596616</td><td>-0.625749</td><td>-0.323394</td><td>-0.263399</td><td>-0.305465</td><td>0.483037</td><td>0.086237</td><td>0.229379</td><td>0.433586</td><td>0.526652</td><td>0.422905</td><td>0.108377</td><td>0.063136</td><td>0.47397</td><td>-0.069006</td><td>0.234467</td><td>0.447948</td><td>0.234189</td><td>0.016555</td><td>0.011871</td><td>0.136422</td><td>&hellip;</td><td>0.007922</td><td>-0.005892</td><td>-0.01263</td><td>-0.873517</td><td>-0.840068</td><td>0.005786</td><td>0.083554</td><td>0.015444</td><td>-0.012708</td><td>0.381417</td><td>0.529008</td><td>0.902084</td><td>0.355764</td><td>0.368828</td><td>1.600727</td><td>0.093405</td><td>-0.465116</td><td>-0.516132</td><td>-0.653997</td><td>-0.725988</td><td>-0.436268</td><td>-0.238371</td><td>-0.032994</td><td>-1.497419</td><td>-0.525974</td><td>-0.147911</td><td>-0.043417</td><td>1.521787</td><td>1.548965</td><td>1.495735</td><td>1.16673</td><td>0.281056</td><td>-0.187831</td><td>-0.599553</td><td>0</td><td>1</td><td>0.285343</td></tr><tr><td>2.608</td><td>2.111</td><td>123.562</td><td>40.163</td><td>163.725</td><td>-1.029564</td><td>-1.382505</td><td>-1.214935</td><td>-1.020241</td><td>-0.960397</td><td>-1.048605</td><td>-1.100512</td><td>-1.125502</td><td>-0.948648</td><td>-1.382813</td><td>-1.155675</td><td>-0.938154</td><td>-0.884723</td><td>-1.07428</td><td>-1.173479</td><td>-1.18582</td><td>0.525631</td><td>-1.659673</td><td>-1.297677</td><td>-1.141278</td><td>-1.209288</td><td>-1.362582</td><td>-0.945602</td><td>-0.444541</td><td>2.148573</td><td>-0.847346</td><td>-0.580285</td><td>-0.427531</td><td>-0.449724</td><td>-0.339681</td><td>0.256421</td><td>0.868983</td><td>&hellip;</td><td>1.483452</td><td>0.17478</td><td>0.346611</td><td>-0.12789</td><td>0.619577</td><td>-0.099618</td><td>0.955552</td><td>-0.193293</td><td>0.806112</td><td>-1.245615</td><td>0.247692</td><td>-1.49016</td><td>-0.112356</td><td>1.387892</td><td>-0.891127</td><td>1.882082</td><td>-0.532749</td><td>-0.567907</td><td>-0.58218</td><td>-0.574999</td><td>-0.016773</td><td>0.376866</td><td>0.609505</td><td>-0.266302</td><td>-0.340076</td><td>-0.126703</td><td>-0.07709</td><td>-0.703054</td><td>-0.716951</td><td>-0.721292</td><td>-0.674619</td><td>-0.639318</td><td>-0.736268</td><td>-0.86222</td><td>0</td><td>2</td><td>0.70901</td></tr><tr><td>2.768</td><td>10.787</td><td>126.137</td><td>118.266</td><td>244.403</td><td>-2.59409</td><td>-5.486158</td><td>-4.744466</td><td>-3.930152</td><td>-3.275324</td><td>-2.795483</td><td>-2.697029</td><td>-2.631111</td><td>-0.930428</td><td>-4.773587</td><td>-3.225123</td><td>-2.140452</td><td>-1.375326</td><td>-0.993945</td><td>-1.053773</td><td>-1.062467</td><td>1.31847</td><td>-2.916145</td><td>-0.322479</td><td>0.51916</td><td>0.77634</td><td>0.483633</td><td>0.278665</td><td>0.351723</td><td>0.763206</td><td>-2.738539</td><td>-0.18359</td><td>0.544262</td><td>0.767578</td><td>0.475454</td><td>0.100709</td><td>-0.209634</td><td>&hellip;</td><td>-0.02887</td><td>-0.008207</td><td>-0.017233</td><td>0.004587</td><td>0.20286</td><td>-0.146217</td><td>-0.222135</td><td>0.106311</td><td>0.258699</td><td>-0.424363</td><td>0.196806</td><td>-1.19279</td><td>-0.04576</td><td>1.507167</td><td>0.072856</td><td>0.27568</td><td>1.186799</td><td>1.23529</td><td>0.942472</td><td>0.549053</td><td>-0.025098</td><td>-0.023192</td><td>0.397028</td><td>-0.41309</td><td>2.131345</td><td>-0.14775</td><td>-0.030627</td><td>-0.703514</td><td>-0.717525</td><td>-0.731701</td><td>-0.750998</td><td>-0.789366</td><td>-0.850941</td><td>-1.033131</td><td>0</td><td>3</td><td>-0.57488</td></tr><tr><td>0.948</td><td>12.157</td><td>16.069</td><td>31.723</td><td>47.792</td><td>0.240745</td><td>0.997585</td><td>1.028965</td><td>1.081052</td><td>0.811895</td><td>0.140567</td><td>-0.019137</td><td>0.019558</td><td>0.123288</td><td>-0.036963</td><td>0.238274</td><td>0.294708</td><td>0.174069</td><td>-0.19868</td><td>-0.276774</td><td>-0.192456</td><td>-0.69019</td><td>-0.296766</td><td>-0.15669</td><td>-0.207432</td><td>-0.272406</td><td>-0.306263</td><td>-0.334957</td><td>-0.319814</td><td>-1.055234</td><td>-0.506583</td><td>-0.333547</td><td>-0.30927</td><td>-0.248058</td><td>-0.257161</td><td>-0.377619</td><td>-0.552696</td><td>&hellip;</td><td>-0.02887</td><td>-0.008207</td><td>-0.017233</td><td>-0.873517</td><td>-0.840068</td><td>0.005786</td><td>-0.294406</td><td>-0.258626</td><td>-0.012731</td><td>-0.632079</td><td>0.136685</td><td>0.872713</td><td>0.15807</td><td>-0.964867</td><td>1.152734</td><td>-1.204955</td><td>-0.586641</td><td>-0.650525</td><td>-0.707137</td><td>-0.808201</td><td>-1.097548</td><td>-1.229467</td><td>-1.14426</td><td>-0.812698</td><td>0.524579</td><td>-0.136737</td><td>-0.03338</td><td>1.521167</td><td>1.551771</td><td>1.582833</td><td>1.62583</td><td>1.762155</td><td>1.911924</td><td>1.962445</td><td>0</td><td>4</td><td>0.272841</td></tr><tr><td>1.084</td><td>3.493</td><td>32.679</td><td>37.327</td><td>70.006</td><td>0.067189</td><td>0.772852</td><td>0.772152</td><td>0.714846</td><td>0.514422</td><td>0.099683</td><td>-0.085127</td><td>-0.163693</td><td>-0.961655</td><td>0.332133</td><td>0.294928</td><td>0.132711</td><td>-0.241271</td><td>-0.942707</td><td>-1.209709</td><td>-1.300811</td><td>2.070281</td><td>0.226949</td><td>-0.006069</td><td>-0.267187</td><td>-0.561779</td><td>-0.747072</td><td>-0.444194</td><td>0.172938</td><td>2.35154</td><td>0.016358</td><td>-0.154874</td><td>-0.244417</td><td>-0.289631</td><td>-0.244339</td><td>0.038124</td><td>0.589887</td><td>&hellip;</td><td>-0.02887</td><td>-0.008207</td><td>-0.017233</td><td>-0.932703</td><td>-1.237356</td><td>-1.477333</td><td>-0.695744</td><td>-2.011974</td><td>-0.660032</td><td>-1.477275</td><td>-0.354258</td><td>-0.158485</td><td>-0.336057</td><td>2.372868</td><td>0.466208</td><td>-0.005992</td><td>-0.522653</td><td>-0.596118</td><td>-0.590908</td><td>-0.538846</td><td>-0.135403</td><td>0.211673</td><td>0.325342</td><td>-1.323223</td><td>-0.523453</td><td>-0.218991</td><td>-0.004915</td><td>-0.703161</td><td>-0.7169</td><td>-0.714699</td><td>-0.652209</td><td>-0.623165</td><td>-0.699887</td><td>-0.640094</td><td>0</td><td>5</td><td>0.140561</td></tr></tbody></table></div>"
      ],
      "text/plain": [
       "shape: (5, 788)\n",
       "┌─────────┬─────────┬─────────┬──────────┬───┬───────────┬───────┬─────┬────────────┐\n",
       "│ bid_qty ┆ ask_qty ┆ buy_qty ┆ sell_qty ┆ … ┆ X780      ┆ label ┆ ID  ┆ prediction │\n",
       "│ ---     ┆ ---     ┆ ---     ┆ ---      ┆   ┆ ---       ┆ ---   ┆ --- ┆ ---        │\n",
       "│ f64     ┆ f64     ┆ f64     ┆ f64      ┆   ┆ f64       ┆ i64   ┆ i64 ┆ f64        │\n",
       "╞═════════╪═════════╪═════════╪══════════╪═══╪═══════════╪═══════╪═════╪════════════╡\n",
       "│ 0.317   ┆ 8.102   ┆ 13.164  ┆ 10.272   ┆ … ┆ -0.599553 ┆ 0     ┆ 1   ┆ 0.285343   │\n",
       "│ 2.608   ┆ 2.111   ┆ 123.562 ┆ 40.163   ┆ … ┆ -0.86222  ┆ 0     ┆ 2   ┆ 0.70901    │\n",
       "│ 2.768   ┆ 10.787  ┆ 126.137 ┆ 118.266  ┆ … ┆ -1.033131 ┆ 0     ┆ 3   ┆ -0.57488   │\n",
       "│ 0.948   ┆ 12.157  ┆ 16.069  ┆ 31.723   ┆ … ┆ 1.962445  ┆ 0     ┆ 4   ┆ 0.272841   │\n",
       "│ 1.084   ┆ 3.493   ┆ 32.679  ┆ 37.327   ┆ … ┆ -0.640094 ┆ 0     ┆ 5   ┆ 0.140561   │\n",
       "└─────────┴─────────┴─────────┴──────────┴───┴───────────┴───────┴─────┴────────────┘"
      ]
     },
     "execution_count": 12,
     "metadata": {},
     "output_type": "execute_result"
    }
   ],
   "source": [
    "crypto_lazy_test = crypto_lazy_test.with_columns(\n",
    "    ID=range(1, n + 1), prediction=y_hat_lgb_test + lr * y_lin_test\n",
    ")\n",
    "crypto_lazy_test.head(5).collect()"
   ]
  },
  {
   "cell_type": "code",
   "execution_count": 13,
   "id": "2776b6b1",
   "metadata": {
    "execution": {
     "iopub.execute_input": "2025-07-19T23:04:17.382712Z",
     "iopub.status.busy": "2025-07-19T23:04:17.381724Z",
     "iopub.status.idle": "2025-07-19T23:04:19.843078Z",
     "shell.execute_reply": "2025-07-19T23:04:19.842101Z"
    },
    "papermill": {
     "duration": 2.468309,
     "end_time": "2025-07-19T23:04:19.844875",
     "exception": false,
     "start_time": "2025-07-19T23:04:17.376566",
     "status": "completed"
    },
    "tags": []
   },
   "outputs": [],
   "source": [
    "crypto_lazy_test.select([pl.col(\"ID\"), pl.col(\"prediction\")]).collect().write_csv(\n",
    "    Path(\"submission.csv\")\n",
    ")"
   ]
  },
  {
   "cell_type": "code",
   "execution_count": null,
   "id": "85b8bb68",
   "metadata": {
    "papermill": {
     "duration": 0.003956,
     "end_time": "2025-07-19T23:04:19.853336",
     "exception": false,
     "start_time": "2025-07-19T23:04:19.849380",
     "status": "completed"
    },
    "tags": []
   },
   "outputs": [],
   "source": []
  }
 ],
 "metadata": {
  "kaggle": {
   "accelerator": "none",
   "dataSources": [
    {
     "databundleVersionId": 12993472,
     "sourceId": 96164,
     "sourceType": "competition"
    }
   ],
   "dockerImageVersionId": 31089,
   "isGpuEnabled": false,
   "isInternetEnabled": true,
   "language": "python",
   "sourceType": "notebook"
  },
  "kernelspec": {
   "display_name": "Python 3",
   "language": "python",
   "name": "python3"
  },
  "language_info": {
   "codemirror_mode": {
    "name": "ipython",
    "version": 3
   },
   "file_extension": ".py",
   "mimetype": "text/x-python",
   "name": "python",
   "nbconvert_exporter": "python",
   "pygments_lexer": "ipython3",
   "version": "3.11.13"
  },
  "papermill": {
   "default_parameters": {},
   "duration": 482.756803,
   "end_time": "2025-07-19T23:04:23.135979",
   "environment_variables": {},
   "exception": null,
   "input_path": "__notebook__.ipynb",
   "output_path": "__notebook__.ipynb",
   "parameters": {},
   "start_time": "2025-07-19T22:56:20.379176",
   "version": "2.6.0"
  }
 },
 "nbformat": 4,
 "nbformat_minor": 5
}
