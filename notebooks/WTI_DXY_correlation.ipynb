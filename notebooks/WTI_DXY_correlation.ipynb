{
 "cells": [
  {
   "cell_type": "markdown",
   "id": "c7146ed5",
   "metadata": {},
   "source": [
    "# WTI and DXY correlation \n",
    "- verify the assumption that since WTI - like Brent - are denominated in US dollars globally, \n",
    "a stronger dollar pressures crude priecs\n"
   ]
  },
  {
   "cell_type": "code",
   "execution_count": 2,
   "id": "6df1affc",
   "metadata": {},
   "outputs": [
    {
     "name": "stdout",
     "output_type": "stream",
     "text": [
      "Raw data location : /home/leonc/code/irbackend/raw_data/commo\n",
      "\n",
      "Current data files :\n",
      "\t- /home/leonc/code/irbackend/raw_data/commo/Cushing_OK_WTI_Spot_Price_FOB.csv\n"
     ]
    }
   ],
   "source": [
    "import polars as pl\n",
    "import pandas as pd\n",
    "from matplotlib import pyplot as plt\n",
    "from pathlib import Path\n",
    "\n",
    "raw_data_folder = Path(\"../raw_data\")\n",
    "commo_folder = raw_data_folder / \"commo\"\n",
    "commo_folder = commo_folder.resolve()\n",
    "print(f\"Raw data location : {commo_folder}\\n\")\n",
    "print(\"Current data files :\")\n",
    "for p in list(commo_folder.glob(\"*\")):\n",
    "    print(f\"\\t- {p}\")"
   ]
  },
  {
   "cell_type": "markdown",
   "id": "2e843cb1",
   "metadata": {},
   "source": [
    "## Load data"
   ]
  },
  {
   "cell_type": "code",
   "execution_count": 15,
   "id": "13d95091",
   "metadata": {},
   "outputs": [
    {
     "name": "stdout",
     "output_type": "stream",
     "text": [
      "Cushing OK WTI Spot Price FOB\n",
      "\n",
      "https://www.eia.gov/dnav/pet/hist/RWTCD.htm\n",
      "\n",
      "09:19:15 GMT+0100 (British Summer Time)\n",
      "\n",
      "Data Source: Thomson Reuters\n",
      "\n",
      "Day,Cushing OK WTI Spot Price FOB  Dollars per Barrel\n",
      "\n",
      "07/14/2025,68.19\n",
      "\n",
      "07/11/2025,69.63\n",
      "\n",
      "07/10/2025,67.78\n",
      "\n",
      "07/9/2025,69.61\n",
      "\n",
      "07/8/2025,69.55\n",
      "\n"
     ]
    }
   ],
   "source": [
    "with open(commo_folder / \"Cushing_OK_WTI_Spot_Price_FOB.csv\") as f:\n",
    "    for i in range(10):\n",
    "        print(f.readline())"
   ]
  },
  {
   "cell_type": "code",
   "execution_count": 24,
   "id": "ace59111",
   "metadata": {},
   "outputs": [
    {
     "data": {
      "text/html": [
       "<div><style>\n",
       ".dataframe > thead > tr,\n",
       ".dataframe > tbody > tr {\n",
       "  text-align: right;\n",
       "  white-space: pre-wrap;\n",
       "}\n",
       "</style>\n",
       "<small>shape: (5, 2)</small><table border=\"1\" class=\"dataframe\"><thead><tr><th>Day</th><th>WTI spot</th></tr><tr><td>date</td><td>f64</td></tr></thead><tbody><tr><td>2025-07-14</td><td>68.19</td></tr><tr><td>2025-07-11</td><td>69.63</td></tr><tr><td>2025-07-10</td><td>67.78</td></tr><tr><td>2025-07-09</td><td>69.61</td></tr><tr><td>2025-07-08</td><td>69.55</td></tr></tbody></table></div>"
      ],
      "text/plain": [
       "shape: (5, 2)\n",
       "┌────────────┬──────────┐\n",
       "│ Day        ┆ WTI spot │\n",
       "│ ---        ┆ ---      │\n",
       "│ date       ┆ f64      │\n",
       "╞════════════╪══════════╡\n",
       "│ 2025-07-14 ┆ 68.19    │\n",
       "│ 2025-07-11 ┆ 69.63    │\n",
       "│ 2025-07-10 ┆ 67.78    │\n",
       "│ 2025-07-09 ┆ 69.61    │\n",
       "│ 2025-07-08 ┆ 69.55    │\n",
       "└────────────┴──────────┘"
      ]
     },
     "execution_count": 24,
     "metadata": {},
     "output_type": "execute_result"
    }
   ],
   "source": [
    "wti = (\n",
    "    pl.scan_csv(commo_folder / \"Cushing_OK_WTI_Spot_Price_FOB.csv\", skip_rows=4)\n",
    "    .with_columns(pl.col(\"Day\").str.to_date(\"%m/%d/%Y\"))\n",
    "    .rename({\"Cushing OK WTI Spot Price FOB  Dollars per Barrel\": \"WTI spot\"})\n",
    ")\n",
    "wti.head().collect()"
   ]
  },
  {
   "cell_type": "markdown",
   "id": "c2152b97",
   "metadata": {},
   "source": [
    "***\n",
    "## Sources"
   ]
  },
  {
   "cell_type": "markdown",
   "id": "10135374",
   "metadata": {},
   "source": [
    "- https://open.spotify.com/episode/0LroaxByEYdHk5Bbzg7CMM\n",
    "\n",
    "Data :\n",
    "- https://finance.yahoo.com/quote/DX-Y.NYB/history/\n",
    "- https://www.eia.gov/dnav/pet/hist/RWTCD.htm\n"
   ]
  }
 ],
 "metadata": {
  "kernelspec": {
   "display_name": "irbackend",
   "language": "python",
   "name": "python3"
  },
  "language_info": {
   "codemirror_mode": {
    "name": "ipython",
    "version": 3
   },
   "file_extension": ".py",
   "mimetype": "text/x-python",
   "name": "python",
   "nbconvert_exporter": "python",
   "pygments_lexer": "ipython3",
   "version": "3.12.3"
  }
 },
 "nbformat": 4,
 "nbformat_minor": 5
}
