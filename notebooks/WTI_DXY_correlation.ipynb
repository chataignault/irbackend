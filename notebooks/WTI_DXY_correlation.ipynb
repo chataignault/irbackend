{
 "cells": [
  {
   "cell_type": "markdown",
   "id": "c7146ed5",
   "metadata": {},
   "source": [
    "# WTI and DXY correlation \n",
    "- verify the assumption that since WTI - like Brent - are denominated in US dollars globally, \n",
    "a stronger dollar pressures crude priecs\n"
   ]
  },
  {
   "cell_type": "code",
   "execution_count": 11,
   "id": "6df1affc",
   "metadata": {},
   "outputs": [
    {
     "name": "stdout",
     "output_type": "stream",
     "text": [
      "Raw data location : /home/leonc/code/irbackend/raw_data/commo\n",
      "\n",
      "Current data files :\n",
      "\t- /home/leonc/code/irbackend/raw_data/commo/Cushing_OK_WTI_Spot_Price_FOB.csv\n"
     ]
    }
   ],
   "source": [
    "import polars as pl\n",
    "import pandas as pd\n",
    "from matplotlib import pyplot as plt\n",
    "from pathlib import Path\n",
    "\n",
    "raw_data_folder = Path(\"../raw_data\")\n",
    "commo_folder = raw_data_folder / \"commo\"\n",
    "commo_folder = commo_folder.resolve()\n",
    "print(f\"Raw data location : {commo_folder}\\n\")\n",
    "print(\"Current data files :\")\n",
    "for p in list(commo_folder.glob(\"*\")):\n",
    "    print(f\"\\t- {p}\")"
   ]
  },
  {
   "cell_type": "markdown",
   "id": "c2152b97",
   "metadata": {},
   "source": [
    "***\n",
    "## Sources"
   ]
  },
  {
   "cell_type": "markdown",
   "id": "10135374",
   "metadata": {},
   "source": [
    "- https://open.spotify.com/episode/0LroaxByEYdHk5Bbzg7CMM\n",
    "\n",
    "Data :\n",
    "- https://finance.yahoo.com/quote/DX-Y.NYB/history/\n",
    "- https://www.eia.gov/dnav/pet/hist/RWTCD.htm\n"
   ]
  }
 ],
 "metadata": {
  "kernelspec": {
   "display_name": "irbackend",
   "language": "python",
   "name": "python3"
  },
  "language_info": {
   "codemirror_mode": {
    "name": "ipython",
    "version": 3
   },
   "file_extension": ".py",
   "mimetype": "text/x-python",
   "name": "python",
   "nbconvert_exporter": "python",
   "pygments_lexer": "ipython3",
   "version": "3.12.3"
  }
 },
 "nbformat": 4,
 "nbformat_minor": 5
}
