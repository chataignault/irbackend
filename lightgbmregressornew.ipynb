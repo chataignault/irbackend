{
 "cells": [
  {
   "cell_type": "code",
   "execution_count": 1,
   "id": "6132bd25",
   "metadata": {
    "_cell_guid": "b1076dfc-b9ad-4769-8c92-a6c4dae69d19",
    "_uuid": "8f2839f25d086af736a60e9eeb907d3b93b6e0e5",
    "execution": {
     "iopub.execute_input": "2025-07-19T14:23:33.800307Z",
     "iopub.status.busy": "2025-07-19T14:23:33.799972Z",
     "iopub.status.idle": "2025-07-19T14:23:44.322412Z",
     "shell.execute_reply": "2025-07-19T14:23:44.321206Z"
    },
    "papermill": {
     "duration": 10.528973,
     "end_time": "2025-07-19T14:23:44.324097",
     "exception": false,
     "start_time": "2025-07-19T14:23:33.795124",
     "status": "completed"
    },
    "tags": []
   },
   "outputs": [
    {
     "name": "stdout",
     "output_type": "stream",
     "text": [
      "/kaggle/src/script.ipynb\n",
      "/kaggle/lib/kaggle/gcp.py\n",
      "/kaggle/input/drw-crypto-market-prediction/sample_submission.csv\n",
      "/kaggle/input/drw-crypto-market-prediction/train.parquet\n",
      "/kaggle/input/drw-crypto-market-prediction/test.parquet\n",
      "/kaggle/huggingface/hf_scan.py\n",
      "/kaggle/nbdev/settings.ini\n",
      "/kaggle/nbdev/export.sh\n",
      "/kaggle/working/__notebook__.ipynb\n"
     ]
    }
   ],
   "source": [
    "import numpy as np\n",
    "import pandas as pd \n",
    "from typing import List\n",
    "from pathlib import Path\n",
    "import polars as pl\n",
    "from scipy.stats import pearsonr\n",
    "from sklearn.metrics import r2_score\n",
    "import lightgbm as lgb\n",
    "\n",
    "import os\n",
    "for dirname, _, filenames in os.walk('/kaggle/'):\n",
    "    for filename in filenames:\n",
    "        print(os.path.join(dirname, filename))\n",
    "\n",
    "crypto_folder = Path(\"/kaggle/input/drw-crypto-market-prediction\")"
   ]
  },
  {
   "cell_type": "code",
   "execution_count": 2,
   "id": "2c2fbbad",
   "metadata": {
    "execution": {
     "iopub.execute_input": "2025-07-19T14:23:44.332174Z",
     "iopub.status.busy": "2025-07-19T14:23:44.331499Z",
     "iopub.status.idle": "2025-07-19T14:23:44.342613Z",
     "shell.execute_reply": "2025-07-19T14:23:44.341919Z"
    },
    "papermill": {
     "duration": 0.01675,
     "end_time": "2025-07-19T14:23:44.344260",
     "exception": false,
     "start_time": "2025-07-19T14:23:44.327510",
     "status": "completed"
    },
    "tags": []
   },
   "outputs": [],
   "source": [
    "\n",
    "def get_clean_crypto_data(train: bool = True) -> pl.LazyFrame:\n",
    "    \"\"\"\n",
    "    Load and clean crypto data, returning either train or test set.\n",
    "    \n",
    "    Args:\n",
    "        train: If True, return training set. If False, return test set.\n",
    "        \n",
    "    Returns:\n",
    "        Cleaned lazy frame with columns that have variance and no infinite values.\n",
    "    \"\"\"\n",
    "    filename = \"train.parquet\" if train else \"test.parquet\"\n",
    "    \n",
    "    # Load data\n",
    "    crypto_lazy = pl.scan_parquet(crypto_folder / filename)\n",
    "    if train:\n",
    "        crypto_lazy = crypto_lazy.with_columns(pl.col(\"__index_level_0__\").alias(\"timestamp\")).drop([\"__index_level_0__\"])\n",
    "    # Get column names and calculate variance on training set (for consistency)\n",
    "    train_lazy = pl.scan_parquet(crypto_folder / \"train.parquet\").with_columns(pl.col(\"__index_level_0__\").alias(\"timestamp\")).drop([\"__index_level_0__\"])\n",
    "\n",
    "    crypto_var = train_lazy.select(pl.exclude([\"timestamp\"]).var()).collect()\n",
    "    \n",
    "    # Remove columns with zero variance\n",
    "    crypto_cols = train_lazy.collect_schema().names()\n",
    "    crypto_var_cols = crypto_var.select(pl.all() == 0.0).to_pandas().T.rename(\n",
    "        columns={0: \"is_variance_null\"}\n",
    "    ).reset_index().rename(columns={\"index\": \"column_name\"}).groupby(\n",
    "        \"is_variance_null\"\n",
    "    )[\"column_name\"].unique()\n",
    "    \n",
    "    crypto_cols_with_var = crypto_var_cols[False]\n",
    "    \n",
    "    # Handle timestamp column presence\n",
    "    if train:\n",
    "        crypto_lazy_var = crypto_lazy.select(\n",
    "            [\"timestamp\"] + [pl.col(c) for c in crypto_cols_with_var]\n",
    "        )\n",
    "    else:\n",
    "        crypto_lazy_var = crypto_lazy.select(\n",
    "            [pl.col(c) for c in crypto_cols_with_var if c in crypto_lazy.collect_schema().names()]\n",
    "        )\n",
    "    \n",
    "    # Remove columns with infinite values (check on training set)\n",
    "    train_lazy_var = train_lazy.select(\n",
    "        [\"timestamp\"] + [pl.col(c) for c in crypto_cols_with_var]\n",
    "    )\n",
    "    current_columns = train_lazy_var.collect_schema().names()\n",
    "    contains_infinite_cols = train_lazy_var.select(\n",
    "        pl.exclude(\"timestamp\").abs().max().is_infinite()\n",
    "    ).collect().to_pandas().T.rename(\n",
    "        columns={0: \"contains_infinite\"}\n",
    "    ).reset_index().rename(columns={\"index\": \"column_name\"}).groupby(\n",
    "        \"contains_infinite\"\n",
    "    )[\"column_name\"].unique()\n",
    "    \n",
    "    clean_columns = [c for c in current_columns if c in contains_infinite_cols[False]] + [\"timestamp\"]    \n",
    "    # Filter clean columns based on what's available in the current dataset\n",
    "    available_columns = crypto_lazy.collect_schema().names()\n",
    "    final_columns = [c for c in clean_columns if c in available_columns]\n",
    "    \n",
    "    return crypto_lazy.select(final_columns)"
   ]
  },
  {
   "cell_type": "code",
   "execution_count": 3,
   "id": "50da8ab9",
   "metadata": {
    "execution": {
     "iopub.execute_input": "2025-07-19T14:23:44.351686Z",
     "iopub.status.busy": "2025-07-19T14:23:44.351357Z",
     "iopub.status.idle": "2025-07-19T14:24:00.874125Z",
     "shell.execute_reply": "2025-07-19T14:24:00.873056Z"
    },
    "papermill": {
     "duration": 16.528608,
     "end_time": "2025-07-19T14:24:00.875942",
     "exception": false,
     "start_time": "2025-07-19T14:23:44.347334",
     "status": "completed"
    },
    "tags": []
   },
   "outputs": [],
   "source": [
    "stats_columns = [\"timestamp\", \"bid_qty\", \"ask_qty\", \"buy_qty\", \"sell_qty\", \"volume\", \"label\"]\n",
    "stats_columns_test = [\"ID\", \"bid_qty\", \"ask_qty\", \"buy_qty\", \"sell_qty\", \"volume\", \"label\"]\n",
    "X_exclude = [\"timestamp\", \"label\"]\n",
    "X_test_exclude = [\"ID\", \"label\"]\n",
    "\n",
    "crypto_lazy_clean = get_clean_crypto_data(train=True)"
   ]
  },
  {
   "cell_type": "code",
   "execution_count": 4,
   "id": "99441271",
   "metadata": {
    "execution": {
     "iopub.execute_input": "2025-07-19T14:24:00.883785Z",
     "iopub.status.busy": "2025-07-19T14:24:00.883463Z",
     "iopub.status.idle": "2025-07-19T14:24:00.890794Z",
     "shell.execute_reply": "2025-07-19T14:24:00.889820Z"
    },
    "papermill": {
     "duration": 0.013051,
     "end_time": "2025-07-19T14:24:00.892328",
     "exception": false,
     "start_time": "2025-07-19T14:24:00.879277",
     "status": "completed"
    },
    "tags": []
   },
   "outputs": [],
   "source": [
    "def get_diff_features(df:pl.LazyFrame, stats_columns:List[str]):\n",
    "    return df.with_columns(pl.exclude(stats_columns).diff()).with_row_index().fill_null(strategy=\"backward\").select(pl.exclude(\"index\"))\n",
    "\n",
    "crypto_lazy_clean = crypto_lazy_clean.join(\n",
    "        get_diff_features(crypto_lazy_clean, stats_columns),\n",
    "        on=stats_columns,\n",
    "        how=\"inner\",\n",
    "        suffix=\"_diff\"\n",
    ")"
   ]
  },
  {
   "cell_type": "code",
   "execution_count": 5,
   "id": "a3cd748d",
   "metadata": {
    "execution": {
     "iopub.execute_input": "2025-07-19T14:24:00.899600Z",
     "iopub.status.busy": "2025-07-19T14:24:00.899284Z",
     "iopub.status.idle": "2025-07-19T14:24:13.869283Z",
     "shell.execute_reply": "2025-07-19T14:24:13.868327Z"
    },
    "papermill": {
     "duration": 12.975571,
     "end_time": "2025-07-19T14:24:13.871039",
     "exception": false,
     "start_time": "2025-07-19T14:24:00.895468",
     "status": "completed"
    },
    "tags": []
   },
   "outputs": [],
   "source": [
    "X = crypto_lazy_clean.select(pl.exclude(X_exclude)).collect().to_numpy()\n",
    "y = crypto_lazy_clean.select(pl.col(\"label\")).collect().to_numpy().T[0]"
   ]
  },
  {
   "cell_type": "code",
   "execution_count": 6,
   "id": "38bcb883",
   "metadata": {
    "execution": {
     "iopub.execute_input": "2025-07-19T14:24:13.878396Z",
     "iopub.status.busy": "2025-07-19T14:24:13.878099Z",
     "iopub.status.idle": "2025-07-19T14:29:43.017962Z",
     "shell.execute_reply": "2025-07-19T14:29:43.016771Z"
    },
    "papermill": {
     "duration": 329.15209,
     "end_time": "2025-07-19T14:29:43.026319",
     "exception": false,
     "start_time": "2025-07-19T14:24:13.874229",
     "status": "completed"
    },
    "tags": []
   },
   "outputs": [
    {
     "name": "stderr",
     "output_type": "stream",
     "text": [
      "/usr/local/lib/python3.11/dist-packages/lightgbm/basic.py:2118: UserWarning: weight keyword has been found in `params` and will be ignored.\n",
      "Please use weight argument of the Dataset constructor to pass this parameter.\n",
      "  _log_warning(\n"
     ]
    },
    {
     "name": "stdout",
     "output_type": "stream",
     "text": [
      "[LightGBM] [Info] Auto-choosing col-wise multi-threading, the overhead of testing was 16.750868 seconds.\n",
      "You can set `force_col_wise=true` to remove the overhead.\n",
      "[LightGBM] [Info] Total Bins 399056\n",
      "[LightGBM] [Info] Number of data points in the train set: 525886, number of used features: 1565\n",
      "[LightGBM] [Info] Start training from score 0.036126\n"
     ]
    },
    {
     "data": {
      "text/html": [
       "<style>#sk-container-id-1 {color: black;background-color: white;}#sk-container-id-1 pre{padding: 0;}#sk-container-id-1 div.sk-toggleable {background-color: white;}#sk-container-id-1 label.sk-toggleable__label {cursor: pointer;display: block;width: 100%;margin-bottom: 0;padding: 0.3em;box-sizing: border-box;text-align: center;}#sk-container-id-1 label.sk-toggleable__label-arrow:before {content: \"▸\";float: left;margin-right: 0.25em;color: #696969;}#sk-container-id-1 label.sk-toggleable__label-arrow:hover:before {color: black;}#sk-container-id-1 div.sk-estimator:hover label.sk-toggleable__label-arrow:before {color: black;}#sk-container-id-1 div.sk-toggleable__content {max-height: 0;max-width: 0;overflow: hidden;text-align: left;background-color: #f0f8ff;}#sk-container-id-1 div.sk-toggleable__content pre {margin: 0.2em;color: black;border-radius: 0.25em;background-color: #f0f8ff;}#sk-container-id-1 input.sk-toggleable__control:checked~div.sk-toggleable__content {max-height: 200px;max-width: 100%;overflow: auto;}#sk-container-id-1 input.sk-toggleable__control:checked~label.sk-toggleable__label-arrow:before {content: \"▾\";}#sk-container-id-1 div.sk-estimator input.sk-toggleable__control:checked~label.sk-toggleable__label {background-color: #d4ebff;}#sk-container-id-1 div.sk-label input.sk-toggleable__control:checked~label.sk-toggleable__label {background-color: #d4ebff;}#sk-container-id-1 input.sk-hidden--visually {border: 0;clip: rect(1px 1px 1px 1px);clip: rect(1px, 1px, 1px, 1px);height: 1px;margin: -1px;overflow: hidden;padding: 0;position: absolute;width: 1px;}#sk-container-id-1 div.sk-estimator {font-family: monospace;background-color: #f0f8ff;border: 1px dotted black;border-radius: 0.25em;box-sizing: border-box;margin-bottom: 0.5em;}#sk-container-id-1 div.sk-estimator:hover {background-color: #d4ebff;}#sk-container-id-1 div.sk-parallel-item::after {content: \"\";width: 100%;border-bottom: 1px solid gray;flex-grow: 1;}#sk-container-id-1 div.sk-label:hover label.sk-toggleable__label {background-color: #d4ebff;}#sk-container-id-1 div.sk-serial::before {content: \"\";position: absolute;border-left: 1px solid gray;box-sizing: border-box;top: 0;bottom: 0;left: 50%;z-index: 0;}#sk-container-id-1 div.sk-serial {display: flex;flex-direction: column;align-items: center;background-color: white;padding-right: 0.2em;padding-left: 0.2em;position: relative;}#sk-container-id-1 div.sk-item {position: relative;z-index: 1;}#sk-container-id-1 div.sk-parallel {display: flex;align-items: stretch;justify-content: center;background-color: white;position: relative;}#sk-container-id-1 div.sk-item::before, #sk-container-id-1 div.sk-parallel-item::before {content: \"\";position: absolute;border-left: 1px solid gray;box-sizing: border-box;top: 0;bottom: 0;left: 50%;z-index: -1;}#sk-container-id-1 div.sk-parallel-item {display: flex;flex-direction: column;z-index: 1;position: relative;background-color: white;}#sk-container-id-1 div.sk-parallel-item:first-child::after {align-self: flex-end;width: 50%;}#sk-container-id-1 div.sk-parallel-item:last-child::after {align-self: flex-start;width: 50%;}#sk-container-id-1 div.sk-parallel-item:only-child::after {width: 0;}#sk-container-id-1 div.sk-dashed-wrapped {border: 1px dashed gray;margin: 0 0.4em 0.5em 0.4em;box-sizing: border-box;padding-bottom: 0.4em;background-color: white;}#sk-container-id-1 div.sk-label label {font-family: monospace;font-weight: bold;display: inline-block;line-height: 1.2em;}#sk-container-id-1 div.sk-label-container {text-align: center;}#sk-container-id-1 div.sk-container {/* jupyter's `normalize.less` sets `[hidden] { display: none; }` but bootstrap.min.css set `[hidden] { display: none !important; }` so we also need the `!important` here to be able to override the default hidden behavior on the sphinx rendered scikit-learn.org. See: https://github.com/scikit-learn/scikit-learn/issues/21755 */display: inline-block !important;position: relative;}#sk-container-id-1 div.sk-text-repr-fallback {display: none;}</style><div id=\"sk-container-id-1\" class=\"sk-top-container\"><div class=\"sk-text-repr-fallback\"><pre>LGBMRegressor(random_state=42,\n",
       "              weight=array([0.00137897, 0.00137897, 0.00137897, ..., 0.57735027, 0.70710678,\n",
       "       1.        ]))</pre><b>In a Jupyter environment, please rerun this cell to show the HTML representation or trust the notebook. <br />On GitHub, the HTML representation is unable to render, please try loading this page with nbviewer.org.</b></div><div class=\"sk-container\" hidden><div class=\"sk-item\"><div class=\"sk-estimator sk-toggleable\"><input class=\"sk-toggleable__control sk-hidden--visually\" id=\"sk-estimator-id-1\" type=\"checkbox\" checked><label for=\"sk-estimator-id-1\" class=\"sk-toggleable__label sk-toggleable__label-arrow\">LGBMRegressor</label><div class=\"sk-toggleable__content\"><pre>LGBMRegressor(random_state=42,\n",
       "              weight=array([0.00137897, 0.00137897, 0.00137897, ..., 0.57735027, 0.70710678,\n",
       "       1.        ]))</pre></div></div></div></div></div>"
      ],
      "text/plain": [
       "LGBMRegressor(random_state=42,\n",
       "              weight=array([0.00137897, 0.00137897, 0.00137897, ..., 0.57735027, 0.70710678,\n",
       "       1.        ]))"
      ]
     },
     "execution_count": 6,
     "metadata": {},
     "output_type": "execute_result"
    }
   ],
   "source": [
    "lgb_model = lgb.LGBMRegressor(random_state=42, weight=np.flip(1. / np.sqrt(np.arange(1, len(X)))))\n",
    "lgb_model.fit(X, y)"
   ]
  },
  {
   "cell_type": "code",
   "execution_count": 7,
   "id": "d8106e21",
   "metadata": {
    "execution": {
     "iopub.execute_input": "2025-07-19T14:29:43.035291Z",
     "iopub.status.busy": "2025-07-19T14:29:43.034914Z",
     "iopub.status.idle": "2025-07-19T14:30:06.643884Z",
     "shell.execute_reply": "2025-07-19T14:30:06.642921Z"
    },
    "papermill": {
     "duration": 23.615616,
     "end_time": "2025-07-19T14:30:06.645674",
     "exception": false,
     "start_time": "2025-07-19T14:29:43.030058",
     "status": "completed"
    },
    "tags": []
   },
   "outputs": [
    {
     "name": "stdout",
     "output_type": "stream",
     "text": [
      "538150\n"
     ]
    }
   ],
   "source": [
    "crypto_lazy_test = get_clean_crypto_data(train=False)\n",
    "\n",
    "# create unique row identifier\n",
    "n = crypto_lazy_test.select(pl.len()).collect().item()\n",
    "crypto_lazy_test = crypto_lazy_test.with_columns(\n",
    "    ID=range(1, n+1)\n",
    ")\n",
    "\n",
    "print(crypto_lazy_test.select(pl.len()).collect().item())\n",
    "\n",
    "crypto_lazy_test = crypto_lazy_test.join(\n",
    "        get_diff_features(crypto_lazy_test, stats_columns_test),\n",
    "        on=stats_columns_test,\n",
    "        how=\"inner\",\n",
    "        suffix=\"_diff\"\n",
    ")\n",
    "\n",
    "# crypto_lazy_test = get_diff_features(crypto_lazy_test, stats_columns_test)\n",
    "assert n == crypto_lazy_test.select(pl.len()).collect().item()"
   ]
  },
  {
   "cell_type": "code",
   "execution_count": 8,
   "id": "681bdba8",
   "metadata": {
    "execution": {
     "iopub.execute_input": "2025-07-19T14:30:06.654367Z",
     "iopub.status.busy": "2025-07-19T14:30:06.654044Z",
     "iopub.status.idle": "2025-07-19T14:30:22.822441Z",
     "shell.execute_reply": "2025-07-19T14:30:22.818883Z"
    },
    "papermill": {
     "duration": 16.222762,
     "end_time": "2025-07-19T14:30:22.872192",
     "exception": false,
     "start_time": "2025-07-19T14:30:06.649430",
     "status": "completed"
    },
    "tags": []
   },
   "outputs": [
    {
     "data": {
      "text/plain": [
       "((538150, 1565), (525886, 1565))"
      ]
     },
     "execution_count": 8,
     "metadata": {},
     "output_type": "execute_result"
    }
   ],
   "source": [
    "X_test = crypto_lazy_test.select(pl.exclude(X_test_exclude)).collect().to_numpy()\n",
    "X_test.shape, X.shape"
   ]
  },
  {
   "cell_type": "code",
   "execution_count": 9,
   "id": "1be2cf06",
   "metadata": {
    "execution": {
     "iopub.execute_input": "2025-07-19T14:30:22.889693Z",
     "iopub.status.busy": "2025-07-19T14:30:22.889408Z",
     "iopub.status.idle": "2025-07-19T14:30:24.121656Z",
     "shell.execute_reply": "2025-07-19T14:30:24.120673Z"
    },
    "papermill": {
     "duration": 1.240864,
     "end_time": "2025-07-19T14:30:24.123468",
     "exception": false,
     "start_time": "2025-07-19T14:30:22.882604",
     "status": "completed"
    },
    "tags": []
   },
   "outputs": [],
   "source": [
    "del X\n",
    "del y"
   ]
  },
  {
   "cell_type": "code",
   "execution_count": 10,
   "id": "387a2070",
   "metadata": {
    "execution": {
     "iopub.execute_input": "2025-07-19T14:30:24.132012Z",
     "iopub.status.busy": "2025-07-19T14:30:24.131647Z",
     "iopub.status.idle": "2025-07-19T14:30:44.406476Z",
     "shell.execute_reply": "2025-07-19T14:30:44.405702Z"
    },
    "papermill": {
     "duration": 20.280796,
     "end_time": "2025-07-19T14:30:44.408049",
     "exception": false,
     "start_time": "2025-07-19T14:30:24.127253",
     "status": "completed"
    },
    "tags": []
   },
   "outputs": [],
   "source": [
    "y_hat_lgb_test = lgb_model.predict(X_test)\n",
    "\n",
    "del X_test"
   ]
  },
  {
   "cell_type": "code",
   "execution_count": 11,
   "id": "44470208",
   "metadata": {
    "execution": {
     "iopub.execute_input": "2025-07-19T14:30:44.416562Z",
     "iopub.status.busy": "2025-07-19T14:30:44.415864Z",
     "iopub.status.idle": "2025-07-19T14:30:50.219769Z",
     "shell.execute_reply": "2025-07-19T14:30:50.218663Z"
    },
    "papermill": {
     "duration": 5.810446,
     "end_time": "2025-07-19T14:30:50.221996",
     "exception": false,
     "start_time": "2025-07-19T14:30:44.411550",
     "status": "completed"
    },
    "tags": []
   },
   "outputs": [
    {
     "data": {
      "text/html": [
       "<div><style>\n",
       ".dataframe > thead > tr,\n",
       ".dataframe > tbody > tr {\n",
       "  text-align: right;\n",
       "  white-space: pre-wrap;\n",
       "}\n",
       "</style>\n",
       "<small>shape: (5, 1_568)</small><table border=\"1\" class=\"dataframe\"><thead><tr><th>bid_qty</th><th>ask_qty</th><th>buy_qty</th><th>sell_qty</th><th>volume</th><th>X1</th><th>X2</th><th>X3</th><th>X4</th><th>X5</th><th>X6</th><th>X7</th><th>X8</th><th>X9</th><th>X10</th><th>X11</th><th>X12</th><th>X13</th><th>X14</th><th>X15</th><th>X16</th><th>X17</th><th>X18</th><th>X19</th><th>X20</th><th>X21</th><th>X22</th><th>X23</th><th>X24</th><th>X25</th><th>X26</th><th>X27</th><th>X28</th><th>X29</th><th>X30</th><th>X31</th><th>X32</th><th>&hellip;</th><th>X745_diff</th><th>X746_diff</th><th>X747_diff</th><th>X748_diff</th><th>X749_diff</th><th>X750_diff</th><th>X751_diff</th><th>X752_diff</th><th>X753_diff</th><th>X754_diff</th><th>X755_diff</th><th>X756_diff</th><th>X757_diff</th><th>X758_diff</th><th>X759_diff</th><th>X760_diff</th><th>X761_diff</th><th>X762_diff</th><th>X763_diff</th><th>X764_diff</th><th>X765_diff</th><th>X766_diff</th><th>X767_diff</th><th>X768_diff</th><th>X769_diff</th><th>X770_diff</th><th>X771_diff</th><th>X772_diff</th><th>X773_diff</th><th>X774_diff</th><th>X775_diff</th><th>X776_diff</th><th>X777_diff</th><th>X778_diff</th><th>X779_diff</th><th>X780_diff</th><th>prediction</th></tr><tr><td>f64</td><td>f64</td><td>f64</td><td>f64</td><td>f64</td><td>f64</td><td>f64</td><td>f64</td><td>f64</td><td>f64</td><td>f64</td><td>f64</td><td>f64</td><td>f64</td><td>f64</td><td>f64</td><td>f64</td><td>f64</td><td>f64</td><td>f64</td><td>f64</td><td>f64</td><td>f64</td><td>f64</td><td>f64</td><td>f64</td><td>f64</td><td>f64</td><td>f64</td><td>f64</td><td>f64</td><td>f64</td><td>f64</td><td>f64</td><td>f64</td><td>f64</td><td>f64</td><td>&hellip;</td><td>f64</td><td>f64</td><td>f64</td><td>f64</td><td>f64</td><td>f64</td><td>f64</td><td>f64</td><td>f64</td><td>f64</td><td>f64</td><td>f64</td><td>f64</td><td>f64</td><td>f64</td><td>f64</td><td>f64</td><td>f64</td><td>f64</td><td>f64</td><td>f64</td><td>f64</td><td>f64</td><td>f64</td><td>f64</td><td>f64</td><td>f64</td><td>f64</td><td>f64</td><td>f64</td><td>f64</td><td>f64</td><td>f64</td><td>f64</td><td>f64</td><td>f64</td><td>f64</td></tr></thead><tbody><tr><td>0.317</td><td>8.102</td><td>13.164</td><td>10.272</td><td>23.436</td><td>-0.341229</td><td>0.041851</td><td>-0.020094</td><td>-0.206221</td><td>-0.297124</td><td>-0.222267</td><td>-0.197837</td><td>-0.203911</td><td>-0.655944</td><td>0.007174</td><td>-0.329925</td><td>-0.596616</td><td>-0.625749</td><td>-0.323394</td><td>-0.263399</td><td>-0.305465</td><td>0.483037</td><td>0.086237</td><td>0.229379</td><td>0.433586</td><td>0.526652</td><td>0.422905</td><td>0.108377</td><td>0.063136</td><td>0.47397</td><td>-0.069006</td><td>0.234467</td><td>0.447948</td><td>0.234189</td><td>0.016555</td><td>0.011871</td><td>0.136422</td><td>&hellip;</td><td>-2.158629</td><td>0.748208</td><td>1.47553</td><td>0.180672</td><td>0.359242</td><td>0.745627</td><td>1.459644</td><td>-0.105404</td><td>0.871998</td><td>-0.208738</td><td>0.81882</td><td>-1.627032</td><td>-0.281315</td><td>-2.392244</td><td>-0.46812</td><td>1.019065</td><td>-2.491853</td><td>1.788676</td><td>-0.067634</td><td>-0.051776</td><td>0.071816</td><td>0.150989</td><td>0.419495</td><td>0.615237</td><td>0.642499</td><td>1.231117</td><td>0.185897</td><td>0.021208</td><td>-0.033673</td><td>-2.22484</td><td>-2.265916</td><td>-2.217028</td><td>-1.841349</td><td>-0.920374</td><td>-0.548437</td><td>-0.262667</td><td>-0.127187</td></tr><tr><td>2.608</td><td>2.111</td><td>123.562</td><td>40.163</td><td>163.725</td><td>-1.029564</td><td>-1.382505</td><td>-1.214935</td><td>-1.020241</td><td>-0.960397</td><td>-1.048605</td><td>-1.100512</td><td>-1.125502</td><td>-0.948648</td><td>-1.382813</td><td>-1.155675</td><td>-0.938154</td><td>-0.884723</td><td>-1.07428</td><td>-1.173479</td><td>-1.18582</td><td>0.525631</td><td>-1.659673</td><td>-1.297677</td><td>-1.141278</td><td>-1.209288</td><td>-1.362582</td><td>-0.945602</td><td>-0.444541</td><td>2.148573</td><td>-0.847346</td><td>-0.580285</td><td>-0.427531</td><td>-0.449724</td><td>-0.339681</td><td>0.256421</td><td>0.868983</td><td>&hellip;</td><td>-2.158629</td><td>0.748208</td><td>1.47553</td><td>0.180672</td><td>0.359242</td><td>0.745627</td><td>1.459644</td><td>-0.105404</td><td>0.871998</td><td>-0.208738</td><td>0.81882</td><td>-1.627032</td><td>-0.281315</td><td>-2.392244</td><td>-0.46812</td><td>1.019065</td><td>-2.491853</td><td>1.788676</td><td>-0.067634</td><td>-0.051776</td><td>0.071816</td><td>0.150989</td><td>0.419495</td><td>0.615237</td><td>0.642499</td><td>1.231117</td><td>0.185897</td><td>0.021208</td><td>-0.033673</td><td>-2.22484</td><td>-2.265916</td><td>-2.217028</td><td>-1.841349</td><td>-0.920374</td><td>-0.548437</td><td>-0.262667</td><td>0.24678</td></tr><tr><td>2.768</td><td>10.787</td><td>126.137</td><td>118.266</td><td>244.403</td><td>-2.59409</td><td>-5.486158</td><td>-4.744466</td><td>-3.930152</td><td>-3.275324</td><td>-2.795483</td><td>-2.697029</td><td>-2.631111</td><td>-0.930428</td><td>-4.773587</td><td>-3.225123</td><td>-2.140452</td><td>-1.375326</td><td>-0.993945</td><td>-1.053773</td><td>-1.062467</td><td>1.31847</td><td>-2.916145</td><td>-0.322479</td><td>0.51916</td><td>0.77634</td><td>0.483633</td><td>0.278665</td><td>0.351723</td><td>0.763206</td><td>-2.738539</td><td>-0.18359</td><td>0.544262</td><td>0.767578</td><td>0.475454</td><td>0.100709</td><td>-0.209634</td><td>&hellip;</td><td>2.158629</td><td>-0.766864</td><td>-1.512322</td><td>-0.182986</td><td>-0.363845</td><td>0.132477</td><td>-0.416717</td><td>-0.046599</td><td>-1.177687</td><td>0.299605</td><td>-0.547413</td><td>0.821252</td><td>-0.050887</td><td>0.297369</td><td>0.066596</td><td>0.119275</td><td>0.963983</td><td>-1.606402</td><td>1.719548</td><td>1.803197</td><td>1.524652</td><td>1.124052</td><td>-0.008325</td><td>-0.400058</td><td>-0.212477</td><td>-0.146789</td><td>2.471421</td><td>-0.021047</td><td>0.046463</td><td>-0.00046</td><td>-0.000573</td><td>-0.010408</td><td>-0.076379</td><td>-0.150048</td><td>-0.114673</td><td>-0.170911</td><td>-1.220725</td></tr><tr><td>0.948</td><td>12.157</td><td>16.069</td><td>31.723</td><td>47.792</td><td>0.240745</td><td>0.997585</td><td>1.028965</td><td>1.081052</td><td>0.811895</td><td>0.140567</td><td>-0.019137</td><td>0.019558</td><td>0.123288</td><td>-0.036963</td><td>0.238274</td><td>0.294708</td><td>0.174069</td><td>-0.19868</td><td>-0.276774</td><td>-0.192456</td><td>-0.69019</td><td>-0.296766</td><td>-0.15669</td><td>-0.207432</td><td>-0.272406</td><td>-0.306263</td><td>-0.334957</td><td>-0.319814</td><td>-1.055234</td><td>-0.506583</td><td>-0.333547</td><td>-0.30927</td><td>-0.248058</td><td>-0.257161</td><td>-0.377619</td><td>-0.552696</td><td>&hellip;</td><td>0.0</td><td>0.0</td><td>0.0</td><td>0.0</td><td>0.0</td><td>-0.878104</td><td>-1.042928</td><td>0.152003</td><td>-0.07227</td><td>-0.364937</td><td>-0.271429</td><td>-0.207717</td><td>-0.06012</td><td>2.065504</td><td>0.203831</td><td>-2.472034</td><td>1.079878</td><td>-1.480635</td><td>-1.773439</td><td>-1.885815</td><td>-1.649609</td><td>-1.357253</td><td>-1.07245</td><td>-1.206275</td><td>-1.541288</td><td>-0.399608</td><td>-1.606766</td><td>0.011013</td><td>-0.002753</td><td>2.224681</td><td>2.269296</td><td>2.314533</td><td>2.376828</td><td>2.551521</td><td>2.762865</td><td>2.995576</td><td>0.214973</td></tr><tr><td>1.084</td><td>3.493</td><td>32.679</td><td>37.327</td><td>70.006</td><td>0.067189</td><td>0.772852</td><td>0.772152</td><td>0.714846</td><td>0.514422</td><td>0.099683</td><td>-0.085127</td><td>-0.163693</td><td>-0.961655</td><td>0.332133</td><td>0.294928</td><td>0.132711</td><td>-0.241271</td><td>-0.942707</td><td>-1.209709</td><td>-1.300811</td><td>2.070281</td><td>0.226949</td><td>-0.006069</td><td>-0.267187</td><td>-0.561779</td><td>-0.747072</td><td>-0.444194</td><td>0.172938</td><td>2.35154</td><td>0.016358</td><td>-0.154874</td><td>-0.244417</td><td>-0.289631</td><td>-0.244339</td><td>0.038124</td><td>0.589887</td><td>&hellip;</td><td>0.0</td><td>0.0</td><td>0.0</td><td>0.0</td><td>0.0</td><td>-0.059186</td><td>-0.397288</td><td>-1.483119</td><td>-0.401339</td><td>-1.753348</td><td>-0.647301</td><td>-0.845195</td><td>-0.490943</td><td>-1.031199</td><td>-0.494127</td><td>3.337735</td><td>-0.686526</td><td>1.198963</td><td>0.063987</td><td>0.054407</td><td>0.116229</td><td>0.269355</td><td>0.962146</td><td>1.441141</td><td>1.469601</td><td>-0.510524</td><td>-1.048032</td><td>-0.082253</td><td>0.028465</td><td>-2.224328</td><td>-2.268671</td><td>-2.297532</td><td>-2.278039</td><td>-2.38532</td><td>-2.611811</td><td>-2.602539</td><td>0.166043</td></tr></tbody></table></div>"
      ],
      "text/plain": [
       "shape: (5, 1_568)\n",
       "┌─────────┬─────────┬─────────┬──────────┬───┬───────────┬───────────┬───────────┬────────────┐\n",
       "│ bid_qty ┆ ask_qty ┆ buy_qty ┆ sell_qty ┆ … ┆ X778_diff ┆ X779_diff ┆ X780_diff ┆ prediction │\n",
       "│ ---     ┆ ---     ┆ ---     ┆ ---      ┆   ┆ ---       ┆ ---       ┆ ---       ┆ ---        │\n",
       "│ f64     ┆ f64     ┆ f64     ┆ f64      ┆   ┆ f64       ┆ f64       ┆ f64       ┆ f64        │\n",
       "╞═════════╪═════════╪═════════╪══════════╪═══╪═══════════╪═══════════╪═══════════╪════════════╡\n",
       "│ 0.317   ┆ 8.102   ┆ 13.164  ┆ 10.272   ┆ … ┆ -0.920374 ┆ -0.548437 ┆ -0.262667 ┆ -0.127187  │\n",
       "│ 2.608   ┆ 2.111   ┆ 123.562 ┆ 40.163   ┆ … ┆ -0.920374 ┆ -0.548437 ┆ -0.262667 ┆ 0.24678    │\n",
       "│ 2.768   ┆ 10.787  ┆ 126.137 ┆ 118.266  ┆ … ┆ -0.150048 ┆ -0.114673 ┆ -0.170911 ┆ -1.220725  │\n",
       "│ 0.948   ┆ 12.157  ┆ 16.069  ┆ 31.723   ┆ … ┆ 2.551521  ┆ 2.762865  ┆ 2.995576  ┆ 0.214973   │\n",
       "│ 1.084   ┆ 3.493   ┆ 32.679  ┆ 37.327   ┆ … ┆ -2.38532  ┆ -2.611811 ┆ -2.602539 ┆ 0.166043   │\n",
       "└─────────┴─────────┴─────────┴──────────┴───┴───────────┴───────────┴───────────┴────────────┘"
      ]
     },
     "execution_count": 11,
     "metadata": {},
     "output_type": "execute_result"
    }
   ],
   "source": [
    "crypto_lazy_test = crypto_lazy_test.with_columns(\n",
    "    ID=range(1, n+1),\n",
    "    prediction=y_hat_lgb_test\n",
    ")\n",
    "crypto_lazy_test.head(5).collect()"
   ]
  },
  {
   "cell_type": "code",
   "execution_count": 12,
   "id": "41772c33",
   "metadata": {
    "execution": {
     "iopub.execute_input": "2025-07-19T14:30:50.238767Z",
     "iopub.status.busy": "2025-07-19T14:30:50.238475Z",
     "iopub.status.idle": "2025-07-19T14:30:50.657009Z",
     "shell.execute_reply": "2025-07-19T14:30:50.655783Z"
    },
    "papermill": {
     "duration": 0.427439,
     "end_time": "2025-07-19T14:30:50.658972",
     "exception": false,
     "start_time": "2025-07-19T14:30:50.231533",
     "status": "completed"
    },
    "tags": []
   },
   "outputs": [],
   "source": [
    "crypto_lazy_test.select([pl.col(\"ID\"), pl.col(\"prediction\")]).collect().write_csv(Path(\"submission.csv\"))"
   ]
  },
  {
   "cell_type": "code",
   "execution_count": null,
   "id": "341c79c1",
   "metadata": {
    "papermill": {
     "duration": 0.005736,
     "end_time": "2025-07-19T14:30:50.668455",
     "exception": false,
     "start_time": "2025-07-19T14:30:50.662719",
     "status": "completed"
    },
    "tags": []
   },
   "outputs": [],
   "source": []
  }
 ],
 "metadata": {
  "kaggle": {
   "accelerator": "none",
   "dataSources": [
    {
     "databundleVersionId": 12993472,
     "sourceId": 96164,
     "sourceType": "competition"
    }
   ],
   "dockerImageVersionId": 31089,
   "isGpuEnabled": false,
   "isInternetEnabled": true,
   "language": "python",
   "sourceType": "notebook"
  },
  "kernelspec": {
   "display_name": "Python 3",
   "language": "python",
   "name": "python3"
  },
  "language_info": {
   "codemirror_mode": {
    "name": "ipython",
    "version": 3
   },
   "file_extension": ".py",
   "mimetype": "text/x-python",
   "name": "python",
   "nbconvert_exporter": "python",
   "pygments_lexer": "ipython3",
   "version": "3.11.13"
  },
  "papermill": {
   "default_parameters": {},
   "duration": 445.50381,
   "end_time": "2025-07-19T14:30:54.373206",
   "environment_variables": {},
   "exception": null,
   "input_path": "__notebook__.ipynb",
   "output_path": "__notebook__.ipynb",
   "parameters": {},
   "start_time": "2025-07-19T14:23:28.869396",
   "version": "2.6.0"
  }
 },
 "nbformat": 4,
 "nbformat_minor": 5
}
